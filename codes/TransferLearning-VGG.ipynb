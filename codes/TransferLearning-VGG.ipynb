{
 "cells": [
  {
   "cell_type": "code",
   "execution_count": 38,
   "metadata": {},
   "outputs": [
    {
     "data": {
      "text/plain": [
       "'/home/younes/.keras/models'"
      ]
     },
     "execution_count": 38,
     "metadata": {},
     "output_type": "execute_result"
    }
   ],
   "source": [
    "from tensorflow.keras.applications.vgg16 import VGG16\n",
    "import os\n",
    "from tensorflow.keras import models, layers, optimizers\n",
    "from tensorflow.keras.preprocessing.image import ImageDataGenerator\n",
    "from sklearn.metrics import classification_report\n",
    "import numpy as np\n",
    "os.path.expanduser('~/.keras/models')"
   ]
  },
  {
   "cell_type": "code",
   "execution_count": 10,
   "metadata": {},
   "outputs": [
    {
     "name": "stderr",
     "output_type": "stream",
     "text": [
      "2022-11-02 18:14:06.560778: W tensorflow/stream_executor/platform/default/dso_loader.cc:64] Could not load dynamic library 'libcuda.so.1'; dlerror: libcuda.so.1: cannot open shared object file: No such file or directory\n",
      "2022-11-02 18:14:06.560850: W tensorflow/stream_executor/cuda/cuda_driver.cc:263] failed call to cuInit: UNKNOWN ERROR (303)\n",
      "2022-11-02 18:14:06.560893: I tensorflow/stream_executor/cuda/cuda_diagnostics.cc:156] kernel driver does not appear to be running on this host (younes-Lenovo-ideapad-130-15AST): /proc/driver/nvidia/version does not exist\n",
      "2022-11-02 18:14:06.561306: I tensorflow/core/platform/cpu_feature_guard.cc:193] This TensorFlow binary is optimized with oneAPI Deep Neural Network Library (oneDNN) to use the following CPU instructions in performance-critical operations:  AVX2 FMA\n",
      "To enable them in other operations, rebuild TensorFlow with the appropriate compiler flags.\n"
     ]
    }
   ],
   "source": [
    "model_conv = VGG16(weights='imagenet', input_shape=(150, 150, 3), include_top=False)"
   ]
  },
  {
   "cell_type": "code",
   "execution_count": 11,
   "metadata": {},
   "outputs": [
    {
     "name": "stdout",
     "output_type": "stream",
     "text": [
      "Model: \"vgg16\"\n",
      "_________________________________________________________________\n",
      " Layer (type)                Output Shape              Param #   \n",
      "=================================================================\n",
      " input_1 (InputLayer)        [(None, 150, 150, 3)]     0         \n",
      "                                                                 \n",
      " block1_conv1 (Conv2D)       (None, 150, 150, 64)      1792      \n",
      "                                                                 \n",
      " block1_conv2 (Conv2D)       (None, 150, 150, 64)      36928     \n",
      "                                                                 \n",
      " block1_pool (MaxPooling2D)  (None, 75, 75, 64)        0         \n",
      "                                                                 \n",
      " block2_conv1 (Conv2D)       (None, 75, 75, 128)       73856     \n",
      "                                                                 \n",
      " block2_conv2 (Conv2D)       (None, 75, 75, 128)       147584    \n",
      "                                                                 \n",
      " block2_pool (MaxPooling2D)  (None, 37, 37, 128)       0         \n",
      "                                                                 \n",
      " block3_conv1 (Conv2D)       (None, 37, 37, 256)       295168    \n",
      "                                                                 \n",
      " block3_conv2 (Conv2D)       (None, 37, 37, 256)       590080    \n",
      "                                                                 \n",
      " block3_conv3 (Conv2D)       (None, 37, 37, 256)       590080    \n",
      "                                                                 \n",
      " block3_pool (MaxPooling2D)  (None, 18, 18, 256)       0         \n",
      "                                                                 \n",
      " block4_conv1 (Conv2D)       (None, 18, 18, 512)       1180160   \n",
      "                                                                 \n",
      " block4_conv2 (Conv2D)       (None, 18, 18, 512)       2359808   \n",
      "                                                                 \n",
      " block4_conv3 (Conv2D)       (None, 18, 18, 512)       2359808   \n",
      "                                                                 \n",
      " block4_pool (MaxPooling2D)  (None, 9, 9, 512)         0         \n",
      "                                                                 \n",
      " block5_conv1 (Conv2D)       (None, 9, 9, 512)         2359808   \n",
      "                                                                 \n",
      " block5_conv2 (Conv2D)       (None, 9, 9, 512)         2359808   \n",
      "                                                                 \n",
      " block5_conv3 (Conv2D)       (None, 9, 9, 512)         2359808   \n",
      "                                                                 \n",
      " block5_pool (MaxPooling2D)  (None, 4, 4, 512)         0         \n",
      "                                                                 \n",
      "=================================================================\n",
      "Total params: 14,714,688\n",
      "Trainable params: 14,714,688\n",
      "Non-trainable params: 0\n",
      "_________________________________________________________________\n"
     ]
    }
   ],
   "source": [
    "model_conv.summary()"
   ]
  },
  {
   "cell_type": "code",
   "execution_count": 12,
   "metadata": {},
   "outputs": [],
   "source": [
    "model_conv.trainable = False"
   ]
  },
  {
   "cell_type": "code",
   "execution_count": 13,
   "metadata": {},
   "outputs": [],
   "source": [
    "model = models.Sequential()\n",
    "model.add(model_conv)\n",
    "model.add(layers.Flatten())\n",
    "model.add(layers.Dense(256, activation='relu'))\n",
    "model.add(layers.Dropout(0.5))\n",
    "model.add(layers.Dense(10, activation='softmax'))\n",
    "model.compile(optimizer='Adam', loss='categorical_crossentropy', metrics=['accuracy'])"
   ]
  },
  {
   "cell_type": "code",
   "execution_count": 14,
   "metadata": {},
   "outputs": [
    {
     "name": "stdout",
     "output_type": "stream",
     "text": [
      "Model: \"sequential\"\n",
      "_________________________________________________________________\n",
      " Layer (type)                Output Shape              Param #   \n",
      "=================================================================\n",
      " vgg16 (Functional)          (None, 4, 4, 512)         14714688  \n",
      "                                                                 \n",
      " flatten (Flatten)           (None, 8192)              0         \n",
      "                                                                 \n",
      " dense (Dense)               (None, 256)               2097408   \n",
      "                                                                 \n",
      " dropout (Dropout)           (None, 256)               0         \n",
      "                                                                 \n",
      " dense_1 (Dense)             (None, 10)                2570      \n",
      "                                                                 \n",
      "=================================================================\n",
      "Total params: 16,814,666\n",
      "Trainable params: 2,099,978\n",
      "Non-trainable params: 14,714,688\n",
      "_________________________________________________________________\n"
     ]
    }
   ],
   "source": [
    "model.summary()"
   ]
  },
  {
   "cell_type": "code",
   "execution_count": 15,
   "metadata": {},
   "outputs": [],
   "source": [
    "image_generator = ImageDataGenerator(\n",
    "    rescale=1.0/255,\n",
    "    zoom_range=0.2,\n",
    "    width_shift_range=0.2,\n",
    "    height_shift_range=0.2,\n",
    "    fill_mode='nearest')\n",
    "\n",
    "image_generator_test = ImageDataGenerator(\n",
    "    rescale=1.0/255,\n",
    "    zoom_range=0.2,\n",
    "    width_shift_range=0.2,\n",
    "    height_shift_range=0.2,\n",
    "    fill_mode='nearest')\n"
   ]
  },
  {
   "cell_type": "code",
   "execution_count": 16,
   "metadata": {},
   "outputs": [
    {
     "name": "stdout",
     "output_type": "stream",
     "text": [
      "Found 1098 images belonging to 10 classes.\n"
     ]
    }
   ],
   "source": [
    "train_data = image_generator.flow_from_directory(\n",
    "    '../datasets/images/training/',\n",
    "    target_size=(150, 150),\n",
    "    color_mode=\"rgb\",\n",
    "    class_mode='categorical',\n",
    "    batch_size=10\n",
    ")"
   ]
  },
  {
   "cell_type": "code",
   "execution_count": 17,
   "metadata": {},
   "outputs": [
    {
     "name": "stdout",
     "output_type": "stream",
     "text": [
      "Found 272 images belonging to 10 classes.\n"
     ]
    }
   ],
   "source": [
    "test_data = image_generator_test.flow_from_directory(\n",
    "    '../datasets/images/validation/',\n",
    "    target_size=(150, 150),\n",
    "    color_mode=\"rgb\",\n",
    "    class_mode='categorical',\n",
    "    batch_size=10\n",
    ")"
   ]
  },
  {
   "cell_type": "code",
   "execution_count": 18,
   "metadata": {},
   "outputs": [
    {
     "name": "stderr",
     "output_type": "stream",
     "text": [
      "/tmp/ipykernel_10810/1484680281.py:1: UserWarning: `Model.fit_generator` is deprecated and will be removed in a future version. Please use `Model.fit`, which supports generators.\n",
      "  model.fit_generator(train_data, steps_per_epoch=len(train_data), epochs=30, validation_data=test_data, validation_steps=len(test_data))\n"
     ]
    },
    {
     "name": "stdout",
     "output_type": "stream",
     "text": [
      "Epoch 1/30\n",
      "110/110 [==============================] - 679s 6s/step - loss: 2.3978 - accuracy: 0.2313 - val_loss: 1.8642 - val_accuracy: 0.3787\n",
      "Epoch 2/30\n",
      "110/110 [==============================] - 656s 6s/step - loss: 1.8615 - accuracy: 0.3379 - val_loss: 1.6058 - val_accuracy: 0.5257\n",
      "Epoch 3/30\n",
      "110/110 [==============================] - 655s 6s/step - loss: 1.7138 - accuracy: 0.3971 - val_loss: 1.5099 - val_accuracy: 0.5551\n",
      "Epoch 4/30\n",
      "110/110 [==============================] - 655s 6s/step - loss: 1.6261 - accuracy: 0.3971 - val_loss: 1.4512 - val_accuracy: 0.5221\n",
      "Epoch 5/30\n",
      "110/110 [==============================] - 656s 6s/step - loss: 1.5501 - accuracy: 0.4426 - val_loss: 1.2580 - val_accuracy: 0.5809\n",
      "Epoch 6/30\n",
      "110/110 [==============================] - 655s 6s/step - loss: 1.4474 - accuracy: 0.4827 - val_loss: 1.3193 - val_accuracy: 0.5368\n",
      "Epoch 7/30\n",
      "110/110 [==============================] - 653s 6s/step - loss: 1.4070 - accuracy: 0.4954 - val_loss: 1.2415 - val_accuracy: 0.6250\n",
      "Epoch 8/30\n",
      "110/110 [==============================] - 653s 6s/step - loss: 1.3712 - accuracy: 0.5064 - val_loss: 1.1745 - val_accuracy: 0.6103\n",
      "Epoch 9/30\n",
      "110/110 [==============================] - 656s 6s/step - loss: 1.2088 - accuracy: 0.5747 - val_loss: 1.0833 - val_accuracy: 0.6912\n",
      "Epoch 10/30\n",
      "110/110 [==============================] - 656s 6s/step - loss: 1.1778 - accuracy: 0.5710 - val_loss: 1.0456 - val_accuracy: 0.6728\n",
      "Epoch 11/30\n",
      "110/110 [==============================] - 654s 6s/step - loss: 1.2401 - accuracy: 0.5656 - val_loss: 1.0482 - val_accuracy: 0.6544\n",
      "Epoch 12/30\n",
      "110/110 [==============================] - 656s 6s/step - loss: 1.1761 - accuracy: 0.5747 - val_loss: 1.0521 - val_accuracy: 0.6875\n",
      "Epoch 13/30\n",
      "110/110 [==============================] - 658s 6s/step - loss: 1.0764 - accuracy: 0.6293 - val_loss: 0.9752 - val_accuracy: 0.7059\n",
      "Epoch 14/30\n",
      "110/110 [==============================] - 655s 6s/step - loss: 1.1175 - accuracy: 0.6084 - val_loss: 1.0476 - val_accuracy: 0.6728\n",
      "Epoch 15/30\n",
      "110/110 [==============================] - 661s 6s/step - loss: 1.0806 - accuracy: 0.5993 - val_loss: 0.9788 - val_accuracy: 0.7059\n",
      "Epoch 16/30\n",
      "110/110 [==============================] - 659s 6s/step - loss: 1.0667 - accuracy: 0.6321 - val_loss: 0.9895 - val_accuracy: 0.6801\n",
      "Epoch 17/30\n",
      "110/110 [==============================] - 658s 6s/step - loss: 1.0238 - accuracy: 0.6175 - val_loss: 0.9591 - val_accuracy: 0.6801\n",
      "Epoch 18/30\n",
      "110/110 [==============================] - 662s 6s/step - loss: 1.0022 - accuracy: 0.6293 - val_loss: 1.0013 - val_accuracy: 0.6801\n",
      "Epoch 19/30\n",
      "110/110 [==============================] - 651s 6s/step - loss: 1.0100 - accuracy: 0.6284 - val_loss: 0.9129 - val_accuracy: 0.6838\n",
      "Epoch 20/30\n",
      "110/110 [==============================] - 645s 6s/step - loss: 0.9355 - accuracy: 0.6566 - val_loss: 0.9752 - val_accuracy: 0.6618\n",
      "Epoch 21/30\n",
      "110/110 [==============================] - 647s 6s/step - loss: 0.9688 - accuracy: 0.6485 - val_loss: 0.8257 - val_accuracy: 0.7243\n",
      "Epoch 22/30\n",
      "110/110 [==============================] - 662s 6s/step - loss: 0.9748 - accuracy: 0.6293 - val_loss: 0.8936 - val_accuracy: 0.7132\n",
      "Epoch 23/30\n",
      "110/110 [==============================] - 660s 6s/step - loss: 0.8790 - accuracy: 0.6803 - val_loss: 0.9726 - val_accuracy: 0.6507\n",
      "Epoch 24/30\n",
      "110/110 [==============================] - 661s 6s/step - loss: 0.9287 - accuracy: 0.6730 - val_loss: 0.8475 - val_accuracy: 0.7353\n",
      "Epoch 25/30\n",
      "110/110 [==============================] - 660s 6s/step - loss: 0.8502 - accuracy: 0.6922 - val_loss: 0.9096 - val_accuracy: 0.6985\n",
      "Epoch 26/30\n",
      "110/110 [==============================] - 661s 6s/step - loss: 0.8671 - accuracy: 0.6585 - val_loss: 0.9141 - val_accuracy: 0.6949\n",
      "Epoch 27/30\n",
      "110/110 [==============================] - 661s 6s/step - loss: 0.9282 - accuracy: 0.6503 - val_loss: 0.8783 - val_accuracy: 0.6912\n",
      "Epoch 28/30\n",
      "110/110 [==============================] - 661s 6s/step - loss: 0.8493 - accuracy: 0.6849 - val_loss: 0.7958 - val_accuracy: 0.7353\n",
      "Epoch 29/30\n",
      "110/110 [==============================] - 661s 6s/step - loss: 0.8746 - accuracy: 0.6703 - val_loss: 0.8700 - val_accuracy: 0.7353\n",
      "Epoch 30/30\n",
      "110/110 [==============================] - 661s 6s/step - loss: 0.8255 - accuracy: 0.6894 - val_loss: 0.8952 - val_accuracy: 0.6912\n"
     ]
    },
    {
     "data": {
      "text/plain": [
       "<keras.callbacks.History at 0x7fd330e4d1e0>"
      ]
     },
     "execution_count": 18,
     "metadata": {},
     "output_type": "execute_result"
    }
   ],
   "source": [
    "model.fit_generator(train_data, steps_per_epoch=len(train_data), epochs=30, validation_data=test_data, validation_steps=len(test_data))"
   ]
  },
  {
   "cell_type": "code",
   "execution_count": 73,
   "metadata": {},
   "outputs": [
    {
     "name": "stdout",
     "output_type": "stream",
     "text": [
      "28/28 [==============================] - 143s 5s/step - loss: 0.9004 - accuracy: 0.7022\n"
     ]
    }
   ],
   "source": [
    "result = model.evaluate(test_data)"
   ]
  },
  {
   "cell_type": "code",
   "execution_count": 74,
   "metadata": {},
   "outputs": [
    {
     "name": "stdout",
     "output_type": "stream",
     "text": [
      "Test loss: 0.9003928303718567\n",
      "Test accuracy: 0.7022058963775635\n"
     ]
    }
   ],
   "source": [
    "print('Test loss:', result[0])\n",
    "print('Test accuracy:', result[1])"
   ]
  },
  {
   "cell_type": "code",
   "execution_count": null,
   "metadata": {},
   "outputs": [],
   "source": []
  }
 ],
 "metadata": {
  "kernelspec": {
   "display_name": "Python 3",
   "language": "python",
   "name": "python3"
  },
  "language_info": {
   "codemirror_mode": {
    "name": "ipython",
    "version": 3
   },
   "file_extension": ".py",
   "mimetype": "text/x-python",
   "name": "python",
   "nbconvert_exporter": "python",
   "pygments_lexer": "ipython3",
   "version": "3.7.3"
  }
 },
 "nbformat": 4,
 "nbformat_minor": 5
}
