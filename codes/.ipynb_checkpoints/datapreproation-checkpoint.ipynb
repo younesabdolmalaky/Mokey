{
 "cells": [
  {
   "cell_type": "code",
   "execution_count": 52,
   "metadata": {},
   "outputs": [],
   "source": [
    "import pandas as pd\n",
    "import numpy as np\n",
    "import matplotlib.pyplot as plt\n",
    "import cv2\n",
    "import mahotas\n",
    "import h5py\n",
    "import imageio as iio\n",
    "import os\n",
    "from os import listdir\n",
    "from itertools import chain\n"
   ]
  },
  {
   "cell_type": "code",
   "execution_count": 57,
   "metadata": {},
   "outputs": [],
   "source": [
    "AllImages = []\n",
    "hue_features_all = []\n",
    "haralick_features_all = []\n",
    "for i in range(0,10):\n",
    "    dirname = '../datasets/training/training/n'+str(i)\n",
    "    images = []\n",
    "    for image in os.listdir(dirname):\n",
    "        \n",
    "#         image_gray = cv2.cvtColor(image, cv2.COLOR_BGR2GRAY)\n",
    "        \n",
    "#         hue_features = cv2.HuMoments(cv2.moments(image_gray)).flatten()\n",
    "        \n",
    "#         haralick_features = mahotas.features.haralick(image_gray).mean(axis=0)\n",
    "        \n",
    "#         hue_features_all.append(hue_features)\n",
    "#         haralick_features_all.append(haralick_features)\n",
    "        images.append(img)\n",
    "    AllImages.append(images)\n",
    "    "
   ]
  },
  {
   "cell_type": "code",
   "execution_count": 73,
   "metadata": {},
   "outputs": [
    {
     "ename": "AttributeError",
     "evalue": "module 'mahotas' has no attribute 'features'",
     "output_type": "error",
     "traceback": [
      "\u001b[0;31m---------------------------------------------------------------------------\u001b[0m",
      "\u001b[0;31mAttributeError\u001b[0m                            Traceback (most recent call last)",
      "\u001b[0;32m<ipython-input-73-52739e40ae09>\u001b[0m in \u001b[0;36m<module>\u001b[0;34m\u001b[0m\n\u001b[1;32m      2\u001b[0m \u001b[0mhue_features\u001b[0m \u001b[0;34m=\u001b[0m \u001b[0mcv2\u001b[0m\u001b[0;34m.\u001b[0m\u001b[0mHuMoments\u001b[0m\u001b[0;34m(\u001b[0m\u001b[0mimage_gray\u001b[0m\u001b[0;34m)\u001b[0m\u001b[0;34m.\u001b[0m\u001b[0mflatten\u001b[0m\u001b[0;34m(\u001b[0m\u001b[0;34m)\u001b[0m\u001b[0;34m\u001b[0m\u001b[0;34m\u001b[0m\u001b[0m\n\u001b[1;32m      3\u001b[0m \u001b[0mhue_features\u001b[0m\u001b[0;34m\u001b[0m\u001b[0;34m\u001b[0m\u001b[0m\n\u001b[0;32m----> 4\u001b[0;31m \u001b[0mharalick_features\u001b[0m \u001b[0;34m=\u001b[0m \u001b[0mmahotas\u001b[0m\u001b[0;34m.\u001b[0m\u001b[0mfeatures\u001b[0m\u001b[0;34m.\u001b[0m\u001b[0mharalick\u001b[0m\u001b[0;34m(\u001b[0m\u001b[0mimage_gray\u001b[0m\u001b[0;34m)\u001b[0m\u001b[0;34m.\u001b[0m\u001b[0mmean\u001b[0m\u001b[0;34m(\u001b[0m\u001b[0maxis\u001b[0m\u001b[0;34m=\u001b[0m\u001b[0;36m0\u001b[0m\u001b[0;34m)\u001b[0m\u001b[0;34m\u001b[0m\u001b[0;34m\u001b[0m\u001b[0m\n\u001b[0m\u001b[1;32m      5\u001b[0m \u001b[0mharalick_features\u001b[0m\u001b[0;34m\u001b[0m\u001b[0;34m\u001b[0m\u001b[0m\n",
      "\u001b[0;31mAttributeError\u001b[0m: module 'mahotas' has no attribute 'features'"
     ]
    }
   ],
   "source": [
    "image_gray = cv2.cvtColor(AllImages[3][2], cv2.COLOR_BGR2GRAY)\n",
    "hue_features = cv2.HuMoments(image_gray).flatten()\n",
    "hue_features\n",
    "haralick_features = mahotas.features.haralick(image_gray).mean(axis=0)\n",
    "haralick_features"
   ]
  },
  {
   "cell_type": "code",
   "execution_count": 67,
   "metadata": {},
   "outputs": [
    {
     "ename": "IndentationError",
     "evalue": "unexpected indent (<ipython-input-67-538f271c7a81>, line 2)",
     "output_type": "error",
     "traceback": [
      "\u001b[0;36m  File \u001b[0;32m\"<ipython-input-67-538f271c7a81>\"\u001b[0;36m, line \u001b[0;32m2\u001b[0m\n\u001b[0;31m    haralick_features = mahotas.features.haralick(image_gray).mean(axis=0)\u001b[0m\n\u001b[0m    ^\u001b[0m\n\u001b[0;31mIndentationError\u001b[0m\u001b[0;31m:\u001b[0m unexpected indent\n"
     ]
    }
   ],
   "source": [
    "hue_features = cv2.HuMoments(cv2.moments(image_gray)).flatten()\n",
    "        haralick_features = mahotas.features.haralick(image_gray).mean(axis=0)\n",
    "        current_features = np.hstack([histogram_features, hue_features, haralick_features])"
   ]
  },
  {
   "cell_type": "code",
   "execution_count": 3,
   "metadata": {},
   "outputs": [],
   "source": [
    "def histcaclulate(AllImages , rgb):   \n",
    "    AllHists = []\n",
    "    for images in AllImages:\n",
    "        hists = []\n",
    "        for image in images:\n",
    "            hist = cv2.calcHist(image,[rgb],None,[256],[0,256]) \n",
    "            hists.append(hist)\n",
    "        AllHists.append(hists)\n",
    "    return AllHists"
   ]
  },
  {
   "cell_type": "code",
   "execution_count": 4,
   "metadata": {},
   "outputs": [],
   "source": [
    "AllHists0 = histcaclulate(AllImages , 0)\n",
    "AllHists1 = histcaclulate(AllImages , 1)\n",
    "AllHists2 = histcaclulate(AllImages , 2)"
   ]
  },
  {
   "cell_type": "code",
   "execution_count": 9,
   "metadata": {},
   "outputs": [],
   "source": [
    "Allhists = []\n",
    "for i in range(10):\n",
    "    folderhists = []\n",
    "    for j in range(len(AllHists0[i])):\n",
    "        imagehist = np.concatenate([AllHists0[i][j] , AllHists1[i][j] , AllHists2[i][j]]) \n",
    "        folderhists.append(imagehist)\n",
    "    Allhists.append(folderhists)\n"
   ]
  },
  {
   "cell_type": "code",
   "execution_count": 20,
   "metadata": {},
   "outputs": [],
   "source": [
    "def flator(lists):\n",
    "    result = []\n",
    "    for folder in lists:\n",
    "        images = []\n",
    "        for image in folder:\n",
    "            images.append(image.ravel())\n",
    "        result.append(images)\n",
    "    return result\n",
    "        "
   ]
  },
  {
   "cell_type": "code",
   "execution_count": 36,
   "metadata": {},
   "outputs": [],
   "source": [
    "flatlist = flator(Allhists)"
   ]
  },
  {
   "cell_type": "code",
   "execution_count": 44,
   "metadata": {},
   "outputs": [],
   "source": [
    "lables = []\n",
    "for i in range(len(Allhists)):\n",
    "    for j in range(len(Allhists[i])):\n",
    "        lables.append(i)"
   ]
  },
  {
   "cell_type": "code",
   "execution_count": 49,
   "metadata": {},
   "outputs": [],
   "source": [
    "flatlist = list(chain.from_iterable(flatlist))"
   ]
  },
  {
   "cell_type": "code",
   "execution_count": null,
   "metadata": {},
   "outputs": [],
   "source": [
    "huMoments = cv2.HuMoments(moments)\n"
   ]
  },
  {
   "cell_type": "code",
   "execution_count": 72,
   "metadata": {},
   "outputs": [
    {
     "ename": "AttributeError",
     "evalue": "module 'mahotas' has no attribute 'imread'",
     "output_type": "error",
     "traceback": [
      "\u001b[0;31m---------------------------------------------------------------------------\u001b[0m",
      "\u001b[0;31mAttributeError\u001b[0m                            Traceback (most recent call last)",
      "\u001b[0;32m<ipython-input-72-ad18986f0650>\u001b[0m in \u001b[0;36m<module>\u001b[0;34m\u001b[0m\n\u001b[1;32m      7\u001b[0m \u001b[0;34m\u001b[0m\u001b[0m\n\u001b[1;32m      8\u001b[0m \u001b[0;31m# loading nuclear image\u001b[0m\u001b[0;34m\u001b[0m\u001b[0;34m\u001b[0m\u001b[0;34m\u001b[0m\u001b[0m\n\u001b[0;32m----> 9\u001b[0;31m \u001b[0mnuclear\u001b[0m \u001b[0;34m=\u001b[0m \u001b[0mmahotas\u001b[0m\u001b[0;34m.\u001b[0m\u001b[0mdemos\u001b[0m\u001b[0;34m.\u001b[0m\u001b[0mnuclear_image\u001b[0m\u001b[0;34m(\u001b[0m\u001b[0;34m)\u001b[0m\u001b[0;34m\u001b[0m\u001b[0;34m\u001b[0m\u001b[0m\n\u001b[0m\u001b[1;32m     10\u001b[0m \u001b[0;34m\u001b[0m\u001b[0m\n\u001b[1;32m     11\u001b[0m \u001b[0;31m# filtering image\u001b[0m\u001b[0;34m\u001b[0m\u001b[0;34m\u001b[0m\u001b[0;34m\u001b[0m\u001b[0m\n",
      "\u001b[0;32m~/anaconda3/lib/python3.7/site-packages/mahotas/demos/__init__.py\u001b[0m in \u001b[0;36mnuclear_image\u001b[0;34m()\u001b[0m\n\u001b[1;32m     61\u001b[0m         \u001b[0mnuclear\u001b[0m \u001b[0mimage\u001b[0m\u001b[0;34m\u001b[0m\u001b[0;34m\u001b[0m\u001b[0m\n\u001b[1;32m     62\u001b[0m     '''\n\u001b[0;32m---> 63\u001b[0;31m     \u001b[0;32mreturn\u001b[0m \u001b[0mload\u001b[0m\u001b[0;34m(\u001b[0m\u001b[0;34m'nuclear'\u001b[0m\u001b[0;34m)\u001b[0m\u001b[0;34m\u001b[0m\u001b[0;34m\u001b[0m\u001b[0m\n\u001b[0m\u001b[1;32m     64\u001b[0m \u001b[0;34m\u001b[0m\u001b[0m\n",
      "\u001b[0;32m~/anaconda3/lib/python3.7/site-packages/mahotas/demos/__init__.py\u001b[0m in \u001b[0;36mload\u001b[0;34m(image_name, as_grey)\u001b[0m\n\u001b[1;32m     50\u001b[0m \u001b[0;34m\u001b[0m\u001b[0m\n\u001b[1;32m     51\u001b[0m     \u001b[0mimage_name\u001b[0m \u001b[0;34m=\u001b[0m \u001b[0mimage_path\u001b[0m\u001b[0;34m(\u001b[0m\u001b[0m_demo_images\u001b[0m\u001b[0;34m[\u001b[0m\u001b[0mimage_name\u001b[0m\u001b[0;34m.\u001b[0m\u001b[0mlower\u001b[0m\u001b[0;34m(\u001b[0m\u001b[0;34m)\u001b[0m\u001b[0;34m]\u001b[0m\u001b[0;34m)\u001b[0m\u001b[0;34m\u001b[0m\u001b[0;34m\u001b[0m\u001b[0m\n\u001b[0;32m---> 52\u001b[0;31m     \u001b[0;32mreturn\u001b[0m \u001b[0mmh\u001b[0m\u001b[0;34m.\u001b[0m\u001b[0mimread\u001b[0m\u001b[0;34m(\u001b[0m\u001b[0mimage_name\u001b[0m\u001b[0;34m,\u001b[0m \u001b[0mas_grey\u001b[0m\u001b[0;34m=\u001b[0m\u001b[0mas_grey\u001b[0m\u001b[0;34m)\u001b[0m\u001b[0;34m\u001b[0m\u001b[0;34m\u001b[0m\u001b[0m\n\u001b[0m\u001b[1;32m     53\u001b[0m \u001b[0;34m\u001b[0m\u001b[0m\n\u001b[1;32m     54\u001b[0m \u001b[0;32mdef\u001b[0m \u001b[0mnuclear_image\u001b[0m\u001b[0;34m(\u001b[0m\u001b[0;34m)\u001b[0m\u001b[0;34m:\u001b[0m\u001b[0;34m\u001b[0m\u001b[0;34m\u001b[0m\u001b[0m\n",
      "\u001b[0;31mAttributeError\u001b[0m: module 'mahotas' has no attribute 'imread'"
     ]
    }
   ],
   "source": [
    "\n",
    "# importing various libraries\n",
    "import mahotas\n",
    "import mahotas.demos\n",
    "import mahotas as mh\n",
    "import numpy as np\n",
    "from pylab import imshow, show\n",
    " \n",
    "# loading nuclear image\n",
    "nuclear = mahotas.demos.nuclear_image()\n",
    " \n",
    "# filtering image\n",
    "nuclear = nuclear[:, :, 0]\n",
    " \n",
    "# adding gaussian filter\n",
    "nuclear = mahotas.gaussian_filter(nuclear, 4)\n",
    " \n",
    "# setting threshold\n",
    "threshed = (nuclear > nuclear.mean())\n",
    " \n",
    "# making is labeled image\n",
    "labeled, n = mahotas.label(threshed)\n",
    " \n",
    "# showing image\n",
    "print(\"Labelled Image\")\n",
    "imshow(labeled)\n",
    "show()\n",
    " \n",
    "# getting haralick features\n",
    "h_feature = mahotas.features.haralick(labelled)\n",
    " \n",
    "# showing the feature\n",
    "print(\"Haralick Features\")\n",
    "imshow(h_feature)\n",
    "show()"
   ]
  },
  {
   "cell_type": "code",
   "execution_count": null,
   "metadata": {},
   "outputs": [],
   "source": []
  }
 ],
 "metadata": {
  "kernelspec": {
   "display_name": "Python 3",
   "language": "python",
   "name": "python3"
  },
  "language_info": {
   "codemirror_mode": {
    "name": "ipython",
    "version": 3
   },
   "file_extension": ".py",
   "mimetype": "text/x-python",
   "name": "python",
   "nbconvert_exporter": "python",
   "pygments_lexer": "ipython3",
   "version": "3.7.6"
  }
 },
 "nbformat": 4,
 "nbformat_minor": 4
}
