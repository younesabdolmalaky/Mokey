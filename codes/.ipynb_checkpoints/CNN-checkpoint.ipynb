{
 "cells": [
  {
   "cell_type": "code",
   "execution_count": 17,
   "metadata": {},
   "outputs": [],
   "source": [
    "import numpy as np\n",
    "import pandas as pd\n",
    "import matplotlib.pyplot as plt\n",
    "from tensorflow.keras.preprocessing.image import ImageDataGenerator\n",
    "from tensorflow.keras.models import Sequential\n",
    "from tensorflow.keras.layers import Conv2D, MaxPool2D, Flatten, Dense , Dropout\n",
    "from tensorflow.keras.callbacks import EarlyStopping, ReduceLROnPlateau\n",
    "from tensorflow.keras.utils import plot_model\n",
    "from sklearn.utils.class_weight import compute_class_weight\n",
    "from tensorflow.keras.callbacks import ModelCheckpoint\n",
    "from tensorflow.keras.layers import Activation, BatchNormalization, Conv2D, Dense, Dropout, Flatten, MaxPooling2D\n",
    "from tensorflow.keras.regularizers import l2\n",
    "import tensorflow as tf"
   ]
  },
  {
   "cell_type": "code",
   "execution_count": 18,
   "metadata": {},
   "outputs": [],
   "source": [
    "model = tf.keras.Sequential([\n",
    "    tf.keras.layers.Conv2D(32, (3, 3), activation = 'relu', input_shape = (100, 100, 3)), \n",
    "    tf.keras.layers.MaxPooling2D(2,2),\n",
    "    tf.keras.layers.Conv2D(32, (3, 3), activation = 'relu'),\n",
    "    tf.keras.layers.MaxPooling2D(2,2),\n",
    "    tf.keras.layers.Flatten(),\n",
    "    tf.keras.layers.Dense(128, activation=tf.nn.relu),\n",
    "    tf.keras.layers.Dense(10, activation=tf.nn.softmax)\n",
    "])"
   ]
  },
  {
   "cell_type": "code",
   "execution_count": 19,
   "metadata": {},
   "outputs": [
    {
     "name": "stdout",
     "output_type": "stream",
     "text": [
      "Model: \"sequential_3\"\n",
      "_________________________________________________________________\n",
      " Layer (type)                Output Shape              Param #   \n",
      "=================================================================\n",
      " conv2d_12 (Conv2D)          (None, 98, 98, 32)        896       \n",
      "                                                                 \n",
      " max_pooling2d_6 (MaxPooling  (None, 49, 49, 32)       0         \n",
      " 2D)                                                             \n",
      "                                                                 \n",
      " conv2d_13 (Conv2D)          (None, 47, 47, 32)        9248      \n",
      "                                                                 \n",
      " max_pooling2d_7 (MaxPooling  (None, 23, 23, 32)       0         \n",
      " 2D)                                                             \n",
      "                                                                 \n",
      " flatten_3 (Flatten)         (None, 16928)             0         \n",
      "                                                                 \n",
      " dense_9 (Dense)             (None, 128)               2166912   \n",
      "                                                                 \n",
      " dense_10 (Dense)            (None, 10)                1290      \n",
      "                                                                 \n",
      "=================================================================\n",
      "Total params: 2,178,346\n",
      "Trainable params: 2,178,346\n",
      "Non-trainable params: 0\n",
      "_________________________________________________________________\n"
     ]
    }
   ],
   "source": [
    "model.summary()"
   ]
  },
  {
   "cell_type": "code",
   "execution_count": 22,
   "metadata": {},
   "outputs": [],
   "source": [
    "image_generator = ImageDataGenerator(\n",
    "    rescale=1.0/255,\n",
    "    zoom_range=0.2,\n",
    "    width_shift_range=0.2,\n",
    "    height_shift_range=0.2,\n",
    "    fill_mode='nearest')\n",
    "\n",
    "image_generator_test = ImageDataGenerator(\n",
    "    rescale=1.0/255,\n",
    "    zoom_range=0.2,\n",
    "    width_shift_range=0.2,\n",
    "    height_shift_range=0.2,\n",
    "    fill_mode='nearest')\n"
   ]
  },
  {
   "cell_type": "code",
   "execution_count": 23,
   "metadata": {},
   "outputs": [
    {
     "name": "stdout",
     "output_type": "stream",
     "text": [
      "Found 1098 images belonging to 10 classes.\n"
     ]
    }
   ],
   "source": [
    "train_data = image_generator.flow_from_directory(\n",
    "    '../datasets/images/training/',\n",
    "    target_size=(100, 100),\n",
    "    color_mode=\"rgb\",\n",
    "    class_mode='categorical',\n",
    "    batch_size=32\n",
    ")"
   ]
  },
  {
   "cell_type": "code",
   "execution_count": 24,
   "metadata": {},
   "outputs": [
    {
     "name": "stdout",
     "output_type": "stream",
     "text": [
      "Found 272 images belonging to 10 classes.\n"
     ]
    }
   ],
   "source": [
    "test_data = image_generator_test.flow_from_directory(\n",
    "    '../datasets/images/validation/',\n",
    "    target_size=(100, 100),\n",
    "    color_mode=\"rgb\",\n",
    "    class_mode='categorical',\n",
    "    batch_size=32\n",
    ")"
   ]
  },
  {
   "cell_type": "code",
   "execution_count": 25,
   "metadata": {},
   "outputs": [],
   "source": [
    "model.compile(optimizer='adam', loss='categorical_crossentropy', metrics=['accuracy'])"
   ]
  },
  {
   "cell_type": "code",
   "execution_count": 26,
   "metadata": {
    "scrolled": true
   },
   "outputs": [
    {
     "name": "stdout",
     "output_type": "stream",
     "text": [
      "Epoch 1/50\n",
      "35/35 [==============================] - 49s 1s/step - loss: 2.2942 - accuracy: 0.1412 - val_loss: 2.1295 - val_accuracy: 0.2390\n",
      "Epoch 2/50\n",
      "35/35 [==============================] - 48s 1s/step - loss: 1.9397 - accuracy: 0.2860 - val_loss: 1.8136 - val_accuracy: 0.3419\n",
      "Epoch 3/50\n",
      "35/35 [==============================] - 47s 1s/step - loss: 1.6463 - accuracy: 0.3980 - val_loss: 1.7256 - val_accuracy: 0.3382\n",
      "Epoch 4/50\n",
      "35/35 [==============================] - 51s 1s/step - loss: 1.5700 - accuracy: 0.4317 - val_loss: 1.5170 - val_accuracy: 0.4412\n",
      "Epoch 5/50\n",
      "35/35 [==============================] - 50s 1s/step - loss: 1.4578 - accuracy: 0.4754 - val_loss: 1.4926 - val_accuracy: 0.4669\n",
      "Epoch 6/50\n",
      "35/35 [==============================] - 50s 1s/step - loss: 1.3645 - accuracy: 0.5018 - val_loss: 1.4323 - val_accuracy: 0.5110\n",
      "Epoch 7/50\n",
      "35/35 [==============================] - 50s 1s/step - loss: 1.2897 - accuracy: 0.5392 - val_loss: 1.4292 - val_accuracy: 0.5221\n",
      "Epoch 8/50\n",
      "35/35 [==============================] - 50s 1s/step - loss: 1.3019 - accuracy: 0.5392 - val_loss: 1.4386 - val_accuracy: 0.4596\n",
      "Epoch 9/50\n",
      "35/35 [==============================] - 50s 1s/step - loss: 1.1948 - accuracy: 0.5883 - val_loss: 1.4316 - val_accuracy: 0.4890\n",
      "Epoch 10/50\n",
      "35/35 [==============================] - 47s 1s/step - loss: 1.2186 - accuracy: 0.5719 - val_loss: 1.3679 - val_accuracy: 0.4890\n",
      "Epoch 11/50\n",
      "35/35 [==============================] - 47s 1s/step - loss: 1.1874 - accuracy: 0.5592 - val_loss: 1.2698 - val_accuracy: 0.5919\n",
      "Epoch 12/50\n",
      "35/35 [==============================] - 49s 1s/step - loss: 1.1289 - accuracy: 0.5865 - val_loss: 1.4086 - val_accuracy: 0.5074\n",
      "Epoch 13/50\n",
      "35/35 [==============================] - 50s 1s/step - loss: 1.0762 - accuracy: 0.6311 - val_loss: 1.2540 - val_accuracy: 0.5846\n",
      "Epoch 14/50\n",
      "35/35 [==============================] - 50s 1s/step - loss: 1.0269 - accuracy: 0.6430 - val_loss: 1.2441 - val_accuracy: 0.5772\n",
      "Epoch 15/50\n",
      "35/35 [==============================] - 48s 1s/step - loss: 1.0803 - accuracy: 0.6175 - val_loss: 1.3704 - val_accuracy: 0.5110\n",
      "Epoch 16/50\n",
      "35/35 [==============================] - 50s 1s/step - loss: 0.9506 - accuracy: 0.6721 - val_loss: 1.3381 - val_accuracy: 0.5147\n",
      "Epoch 17/50\n",
      "35/35 [==============================] - 50s 1s/step - loss: 0.9570 - accuracy: 0.6530 - val_loss: 1.2001 - val_accuracy: 0.5551\n",
      "Epoch 18/50\n",
      "35/35 [==============================] - 50s 1s/step - loss: 0.9849 - accuracy: 0.6566 - val_loss: 1.2951 - val_accuracy: 0.5441\n",
      "Epoch 19/50\n",
      "35/35 [==============================] - 47s 1s/step - loss: 0.9195 - accuracy: 0.6840 - val_loss: 1.2205 - val_accuracy: 0.5551\n",
      "Epoch 20/50\n",
      "35/35 [==============================] - 50s 1s/step - loss: 0.9057 - accuracy: 0.6821 - val_loss: 1.1749 - val_accuracy: 0.5919\n",
      "Epoch 21/50\n",
      "35/35 [==============================] - 50s 1s/step - loss: 0.8007 - accuracy: 0.7086 - val_loss: 1.2084 - val_accuracy: 0.5735\n",
      "Epoch 22/50\n",
      "35/35 [==============================] - 50s 1s/step - loss: 0.8437 - accuracy: 0.6940 - val_loss: 1.2391 - val_accuracy: 0.5809\n",
      "Epoch 23/50\n",
      "35/35 [==============================] - 47s 1s/step - loss: 0.8176 - accuracy: 0.7049 - val_loss: 1.1802 - val_accuracy: 0.5809\n",
      "Epoch 24/50\n",
      "35/35 [==============================] - 50s 1s/step - loss: 0.7305 - accuracy: 0.7386 - val_loss: 1.1814 - val_accuracy: 0.5772\n",
      "Epoch 25/50\n",
      "35/35 [==============================] - 59s 2s/step - loss: 0.7576 - accuracy: 0.7423 - val_loss: 1.1102 - val_accuracy: 0.6029\n",
      "Epoch 26/50\n",
      "35/35 [==============================] - 62s 2s/step - loss: 0.7420 - accuracy: 0.7441 - val_loss: 1.2236 - val_accuracy: 0.5919\n",
      "Epoch 27/50\n",
      "35/35 [==============================] - 65s 2s/step - loss: 0.7675 - accuracy: 0.7359 - val_loss: 1.1682 - val_accuracy: 0.5882\n",
      "Epoch 28/50\n",
      "35/35 [==============================] - 49s 1s/step - loss: 0.7115 - accuracy: 0.7550 - val_loss: 1.1675 - val_accuracy: 0.5846\n",
      "Epoch 29/50\n",
      "35/35 [==============================] - 50s 1s/step - loss: 0.7180 - accuracy: 0.7532 - val_loss: 1.1529 - val_accuracy: 0.6176\n",
      "Epoch 30/50\n",
      "35/35 [==============================] - 50s 1s/step - loss: 0.6622 - accuracy: 0.7632 - val_loss: 1.4319 - val_accuracy: 0.5846\n",
      "Epoch 31/50\n",
      "35/35 [==============================] - 52s 1s/step - loss: 0.7038 - accuracy: 0.7459 - val_loss: 1.2175 - val_accuracy: 0.6140\n",
      "Epoch 32/50\n",
      "35/35 [==============================] - 49s 1s/step - loss: 0.6275 - accuracy: 0.7860 - val_loss: 1.1832 - val_accuracy: 0.6213\n",
      "Epoch 33/50\n",
      "35/35 [==============================] - 51s 1s/step - loss: 0.6697 - accuracy: 0.7614 - val_loss: 1.1373 - val_accuracy: 0.5882\n",
      "Epoch 34/50\n",
      "35/35 [==============================] - 52s 1s/step - loss: 0.6771 - accuracy: 0.7696 - val_loss: 1.1986 - val_accuracy: 0.5956\n",
      "Epoch 35/50\n",
      "35/35 [==============================] - 58s 2s/step - loss: 0.6140 - accuracy: 0.7778 - val_loss: 1.2345 - val_accuracy: 0.6066\n",
      "Epoch 36/50\n",
      "35/35 [==============================] - 64s 2s/step - loss: 0.6105 - accuracy: 0.7987 - val_loss: 1.1626 - val_accuracy: 0.6287\n",
      "Epoch 37/50\n",
      "35/35 [==============================] - 58s 2s/step - loss: 0.5836 - accuracy: 0.7942 - val_loss: 1.1754 - val_accuracy: 0.6176\n",
      "Epoch 38/50\n",
      "35/35 [==============================] - 55s 2s/step - loss: 0.5067 - accuracy: 0.8333 - val_loss: 1.2299 - val_accuracy: 0.6103\n",
      "Epoch 39/50\n",
      "35/35 [==============================] - 60s 2s/step - loss: 0.4984 - accuracy: 0.8260 - val_loss: 1.1596 - val_accuracy: 0.6544\n",
      "Epoch 40/50\n",
      "35/35 [==============================] - 58s 2s/step - loss: 0.5257 - accuracy: 0.8251 - val_loss: 1.1757 - val_accuracy: 0.6213\n",
      "Epoch 41/50\n",
      "35/35 [==============================] - 56s 2s/step - loss: 0.4634 - accuracy: 0.8379 - val_loss: 1.2781 - val_accuracy: 0.6618\n",
      "Epoch 42/50\n",
      "35/35 [==============================] - 56s 2s/step - loss: 0.5218 - accuracy: 0.8188 - val_loss: 1.1801 - val_accuracy: 0.6213\n",
      "Epoch 43/50\n",
      "35/35 [==============================] - 51s 1s/step - loss: 0.4467 - accuracy: 0.8525 - val_loss: 1.2642 - val_accuracy: 0.6250\n",
      "Epoch 44/50\n",
      "35/35 [==============================] - 51s 1s/step - loss: 0.5595 - accuracy: 0.8042 - val_loss: 1.2002 - val_accuracy: 0.6176\n",
      "Epoch 45/50\n",
      "35/35 [==============================] - 48s 1s/step - loss: 0.4760 - accuracy: 0.8452 - val_loss: 1.2716 - val_accuracy: 0.6324\n",
      "Epoch 46/50\n",
      "35/35 [==============================] - 50s 1s/step - loss: 0.4505 - accuracy: 0.8443 - val_loss: 1.1769 - val_accuracy: 0.6397\n",
      "Epoch 47/50\n",
      "35/35 [==============================] - 48s 1s/step - loss: 0.4643 - accuracy: 0.8434 - val_loss: 1.3397 - val_accuracy: 0.6434\n",
      "Epoch 48/50\n",
      "35/35 [==============================] - 53s 1s/step - loss: 0.4684 - accuracy: 0.8415 - val_loss: 1.2848 - val_accuracy: 0.6324\n",
      "Epoch 49/50\n",
      "35/35 [==============================] - 47s 1s/step - loss: 0.4520 - accuracy: 0.8206 - val_loss: 1.2097 - val_accuracy: 0.6471\n",
      "Epoch 50/50\n",
      "35/35 [==============================] - 47s 1s/step - loss: 0.4414 - accuracy: 0.8488 - val_loss: 1.2949 - val_accuracy: 0.6140\n"
     ]
    }
   ],
   "source": [
    "history = model.fit(train_data , steps_per_epoch=len(train_data), epochs=50 , validation_data=test_data, validation_steps=len(test_data))"
   ]
  },
  {
   "cell_type": "code",
   "execution_count": 27,
   "metadata": {},
   "outputs": [
    {
     "data": {
      "text/plain": [
       "[<matplotlib.lines.Line2D at 0x7fdea723de70>]"
      ]
     },
     "execution_count": 27,
     "metadata": {},
     "output_type": "execute_result"
    },
    {
     "data": {
      "image/png": "[encoded data removed]",
      "text/plain": [
       "<Figure size 640x480 with 1 Axes>"
      ]
     },
     "metadata": {},
     "output_type": "display_data"
    }
   ],
   "source": [
    "plt.plot(history.history['accuracy'], color='blue')\n",
    "plt.plot(history.history['val_accuracy'], color='green')"
   ]
  },
  {
   "cell_type": "code",
   "execution_count": null,
   "metadata": {},
   "outputs": [],
   "source": []
  }
 ],
 "metadata": {
  "kernelspec": {
   "display_name": "Python 3",
   "language": "python",
   "name": "python3"
  },
  "language_info": {
   "codemirror_mode": {
    "name": "ipython",
    "version": 3
   },
   "file_extension": ".py",
   "mimetype": "text/x-python",
   "name": "python",
   "nbconvert_exporter": "python",
   "pygments_lexer": "ipython3",
   "version": "3.7.3"
  }
 },
 "nbformat": 4,
 "nbformat_minor": 4
}
