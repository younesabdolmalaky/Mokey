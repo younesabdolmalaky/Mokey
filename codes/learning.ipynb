{
 "cells": [
  {
   "cell_type": "code",
   "execution_count": 1,
   "metadata": {},
   "outputs": [],
   "source": [
    "import pandas as pd\n",
    "import numpy as np\n",
    "import matplotlib.pyplot as plt\n",
    "import cv2\n",
    "import mahotas\n",
    "import h5py\n",
    "import imageio as iio\n",
    "import os\n",
    "from os import listdir\n",
    "from itertools import chain\n",
    "import pickle\n",
    "from catboost import CatBoostClassifier\n",
    "from sklearn import metrics"
   ]
  },
  {
   "cell_type": "code",
   "execution_count": 2,
   "metadata": {},
   "outputs": [],
   "source": [
    "with open('X_train.pkl', 'rb') as f:\n",
    "    X_train = pickle.load(f)\n",
    "\n",
    "with open('y_train.pkl', 'rb') as f:\n",
    "    y_train = pickle.load(f)\n",
    "\n",
    "with open('X_test.pkl', 'rb') as f:\n",
    "    X_test = pickle.load(f)\n",
    "\n",
    "with open('y_test.pkl', 'rb') as f:\n",
    "    y_test = pickle.load(f)"
   ]
  },
  {
   "cell_type": "code",
   "execution_count": 21,
   "metadata": {},
   "outputs": [],
   "source": [
    "model = CatBoostClassifier(iterations=100,learning_rate = 0.9 , depth = 5 , eval_metric = 'Accuracy')"
   ]
  },
  {
   "cell_type": "code",
   "execution_count": 22,
   "metadata": {},
   "outputs": [
    {
     "name": "stdout",
     "output_type": "stream",
     "text": [
      "0:\tlearn: 0.2550091\ttest: 0.2095588\tbest: 0.2095588 (0)\ttotal: 629ms\tremaining: 1m 2s\n",
      "1:\tlearn: 0.2877960\ttest: 0.2573529\tbest: 0.2573529 (1)\ttotal: 1.32s\tremaining: 1m 4s\n",
      "2:\tlearn: 0.3214936\ttest: 0.2536765\tbest: 0.2573529 (1)\ttotal: 1.81s\tremaining: 58.5s\n",
      "3:\tlearn: 0.3561020\ttest: 0.2867647\tbest: 0.2867647 (3)\ttotal: 2.22s\tremaining: 53.2s\n",
      "4:\tlearn: 0.3761384\ttest: 0.3088235\tbest: 0.3088235 (4)\ttotal: 2.65s\tremaining: 50.4s\n",
      "5:\tlearn: 0.4025501\ttest: 0.2941176\tbest: 0.3088235 (4)\ttotal: 3.06s\tremaining: 48s\n",
      "6:\tlearn: 0.4398907\ttest: 0.3235294\tbest: 0.3235294 (6)\ttotal: 3.52s\tremaining: 46.8s\n",
      "7:\tlearn: 0.4526412\ttest: 0.3272059\tbest: 0.3272059 (7)\ttotal: 3.99s\tremaining: 45.9s\n",
      "8:\tlearn: 0.4562842\ttest: 0.3088235\tbest: 0.3272059 (7)\ttotal: 4.4s\tremaining: 44.5s\n",
      "9:\tlearn: 0.4854281\ttest: 0.3088235\tbest: 0.3272059 (7)\ttotal: 4.81s\tremaining: 43.3s\n",
      "10:\tlearn: 0.5054645\ttest: 0.3235294\tbest: 0.3272059 (7)\ttotal: 5.22s\tremaining: 42.3s\n",
      "11:\tlearn: 0.5336976\ttest: 0.3345588\tbest: 0.3345588 (11)\ttotal: 5.66s\tremaining: 41.5s\n",
      "12:\tlearn: 0.5491803\ttest: 0.3345588\tbest: 0.3345588 (11)\ttotal: 6.05s\tremaining: 40.5s\n",
      "13:\tlearn: 0.5637523\ttest: 0.3198529\tbest: 0.3345588 (11)\ttotal: 6.46s\tremaining: 39.7s\n",
      "14:\tlearn: 0.5728597\ttest: 0.3272059\tbest: 0.3345588 (11)\ttotal: 6.86s\tremaining: 38.9s\n",
      "15:\tlearn: 0.5883424\ttest: 0.3566176\tbest: 0.3566176 (15)\ttotal: 7.27s\tremaining: 38.2s\n",
      "16:\tlearn: 0.6092896\ttest: 0.3529412\tbest: 0.3566176 (15)\ttotal: 7.67s\tremaining: 37.4s\n",
      "17:\tlearn: 0.6302368\ttest: 0.3492647\tbest: 0.3566176 (15)\ttotal: 8.09s\tremaining: 36.8s\n",
      "18:\tlearn: 0.6366120\ttest: 0.3455882\tbest: 0.3566176 (15)\ttotal: 8.49s\tremaining: 36.2s\n",
      "19:\tlearn: 0.6557377\ttest: 0.3345588\tbest: 0.3566176 (15)\ttotal: 8.9s\tremaining: 35.6s\n",
      "20:\tlearn: 0.6766849\ttest: 0.3529412\tbest: 0.3566176 (15)\ttotal: 9.32s\tremaining: 35.1s\n",
      "21:\tlearn: 0.6967213\ttest: 0.3345588\tbest: 0.3566176 (15)\ttotal: 9.73s\tremaining: 34.5s\n",
      "22:\tlearn: 0.7021858\ttest: 0.3345588\tbest: 0.3566176 (15)\ttotal: 10.1s\tremaining: 33.9s\n",
      "23:\tlearn: 0.7076503\ttest: 0.3492647\tbest: 0.3566176 (15)\ttotal: 10.5s\tremaining: 33.4s\n",
      "24:\tlearn: 0.7249545\ttest: 0.3492647\tbest: 0.3566176 (15)\ttotal: 11s\tremaining: 32.9s\n",
      "25:\tlearn: 0.7322404\ttest: 0.3455882\tbest: 0.3566176 (15)\ttotal: 11.4s\tremaining: 32.3s\n",
      "26:\tlearn: 0.7349727\ttest: 0.3455882\tbest: 0.3566176 (15)\ttotal: 11.8s\tremaining: 31.8s\n",
      "27:\tlearn: 0.7313297\ttest: 0.3566176\tbest: 0.3566176 (15)\ttotal: 12.2s\tremaining: 31.3s\n",
      "28:\tlearn: 0.7477231\ttest: 0.3566176\tbest: 0.3566176 (15)\ttotal: 12.6s\tremaining: 30.8s\n",
      "29:\tlearn: 0.7522769\ttest: 0.3639706\tbest: 0.3639706 (29)\ttotal: 13s\tremaining: 30.3s\n",
      "30:\tlearn: 0.7741348\ttest: 0.3713235\tbest: 0.3713235 (30)\ttotal: 13.4s\tremaining: 29.8s\n",
      "31:\tlearn: 0.7741348\ttest: 0.3750000\tbest: 0.3750000 (31)\ttotal: 13.8s\tremaining: 29.3s\n",
      "32:\tlearn: 0.7723133\ttest: 0.3676471\tbest: 0.3750000 (31)\ttotal: 14.2s\tremaining: 28.9s\n",
      "33:\tlearn: 0.7841530\ttest: 0.3860294\tbest: 0.3860294 (33)\ttotal: 14.6s\tremaining: 28.4s\n",
      "34:\tlearn: 0.7969035\ttest: 0.3823529\tbest: 0.3860294 (33)\ttotal: 15.1s\tremaining: 28s\n",
      "35:\tlearn: 0.8023679\ttest: 0.3786765\tbest: 0.3860294 (33)\ttotal: 15.6s\tremaining: 27.8s\n",
      "36:\tlearn: 0.8151184\ttest: 0.3639706\tbest: 0.3860294 (33)\ttotal: 16.2s\tremaining: 27.5s\n",
      "37:\tlearn: 0.8142077\ttest: 0.3566176\tbest: 0.3860294 (33)\ttotal: 16.6s\tremaining: 27.1s\n",
      "38:\tlearn: 0.8214936\ttest: 0.3786765\tbest: 0.3860294 (33)\ttotal: 17s\tremaining: 26.6s\n",
      "39:\tlearn: 0.8287796\ttest: 0.3639706\tbest: 0.3860294 (33)\ttotal: 17.4s\tremaining: 26.1s\n",
      "40:\tlearn: 0.8369763\ttest: 0.3676471\tbest: 0.3860294 (33)\ttotal: 17.9s\tremaining: 25.7s\n",
      "41:\tlearn: 0.8442623\ttest: 0.3602941\tbest: 0.3860294 (33)\ttotal: 18.3s\tremaining: 25.3s\n",
      "42:\tlearn: 0.8606557\ttest: 0.3639706\tbest: 0.3860294 (33)\ttotal: 18.7s\tremaining: 24.8s\n",
      "43:\tlearn: 0.8652095\ttest: 0.3602941\tbest: 0.3860294 (33)\ttotal: 19.1s\tremaining: 24.4s\n",
      "44:\tlearn: 0.8679417\ttest: 0.3602941\tbest: 0.3860294 (33)\ttotal: 19.5s\tremaining: 23.9s\n",
      "45:\tlearn: 0.8770492\ttest: 0.3639706\tbest: 0.3860294 (33)\ttotal: 20s\tremaining: 23.4s\n",
      "46:\tlearn: 0.8861566\ttest: 0.3566176\tbest: 0.3860294 (33)\ttotal: 20.4s\tremaining: 23s\n",
      "47:\tlearn: 0.8970856\ttest: 0.3492647\tbest: 0.3860294 (33)\ttotal: 20.9s\tremaining: 22.6s\n",
      "48:\tlearn: 0.9061931\ttest: 0.3602941\tbest: 0.3860294 (33)\ttotal: 21.3s\tremaining: 22.1s\n",
      "49:\tlearn: 0.9034608\ttest: 0.3566176\tbest: 0.3860294 (33)\ttotal: 21.7s\tremaining: 21.7s\n",
      "50:\tlearn: 0.9098361\ttest: 0.3529412\tbest: 0.3860294 (33)\ttotal: 22.1s\tremaining: 21.2s\n",
      "51:\tlearn: 0.9125683\ttest: 0.3566176\tbest: 0.3860294 (33)\ttotal: 22.5s\tremaining: 20.7s\n",
      "52:\tlearn: 0.9180328\ttest: 0.3639706\tbest: 0.3860294 (33)\ttotal: 22.9s\tremaining: 20.3s\n",
      "53:\tlearn: 0.9180328\ttest: 0.3602941\tbest: 0.3860294 (33)\ttotal: 23.4s\tremaining: 19.9s\n",
      "54:\tlearn: 0.9180328\ttest: 0.3639706\tbest: 0.3860294 (33)\ttotal: 24s\tremaining: 19.7s\n",
      "55:\tlearn: 0.9216758\ttest: 0.3750000\tbest: 0.3860294 (33)\ttotal: 24.5s\tremaining: 19.2s\n",
      "56:\tlearn: 0.9225865\ttest: 0.3639706\tbest: 0.3860294 (33)\ttotal: 25s\tremaining: 18.8s\n",
      "57:\tlearn: 0.9198543\ttest: 0.3639706\tbest: 0.3860294 (33)\ttotal: 25.4s\tremaining: 18.4s\n",
      "58:\tlearn: 0.9253188\ttest: 0.3639706\tbest: 0.3860294 (33)\ttotal: 26s\tremaining: 18.1s\n",
      "59:\tlearn: 0.9280510\ttest: 0.3750000\tbest: 0.3860294 (33)\ttotal: 26.5s\tremaining: 17.7s\n",
      "60:\tlearn: 0.9316940\ttest: 0.3750000\tbest: 0.3860294 (33)\ttotal: 26.9s\tremaining: 17.2s\n",
      "61:\tlearn: 0.9408015\ttest: 0.3639706\tbest: 0.3860294 (33)\ttotal: 27.6s\tremaining: 16.9s\n",
      "62:\tlearn: 0.9426230\ttest: 0.3823529\tbest: 0.3860294 (33)\ttotal: 28.1s\tremaining: 16.5s\n",
      "63:\tlearn: 0.9462659\ttest: 0.3897059\tbest: 0.3897059 (63)\ttotal: 28.5s\tremaining: 16.1s\n",
      "64:\tlearn: 0.9480874\ttest: 0.3897059\tbest: 0.3897059 (63)\ttotal: 29s\tremaining: 15.6s\n",
      "65:\tlearn: 0.9517304\ttest: 0.3897059\tbest: 0.3897059 (63)\ttotal: 29.5s\tremaining: 15.2s\n",
      "66:\tlearn: 0.9553734\ttest: 0.4007353\tbest: 0.4007353 (66)\ttotal: 30s\tremaining: 14.8s\n",
      "67:\tlearn: 0.9590164\ttest: 0.4007353\tbest: 0.4007353 (66)\ttotal: 30.4s\tremaining: 14.3s\n",
      "68:\tlearn: 0.9590164\ttest: 0.3970588\tbest: 0.4007353 (66)\ttotal: 30.8s\tremaining: 13.8s\n",
      "69:\tlearn: 0.9635701\ttest: 0.4080882\tbest: 0.4080882 (69)\ttotal: 31.2s\tremaining: 13.4s\n",
      "70:\tlearn: 0.9644809\ttest: 0.4080882\tbest: 0.4080882 (69)\ttotal: 31.7s\tremaining: 12.9s\n",
      "71:\tlearn: 0.9663024\ttest: 0.4338235\tbest: 0.4338235 (71)\ttotal: 32.1s\tremaining: 12.5s\n",
      "72:\tlearn: 0.9699454\ttest: 0.4338235\tbest: 0.4338235 (71)\ttotal: 32.6s\tremaining: 12.1s\n",
      "73:\tlearn: 0.9717668\ttest: 0.4411765\tbest: 0.4411765 (73)\ttotal: 33s\tremaining: 11.6s\n",
      "74:\tlearn: 0.9690346\ttest: 0.4227941\tbest: 0.4411765 (73)\ttotal: 33.5s\tremaining: 11.2s\n",
      "75:\tlearn: 0.9726776\ttest: 0.4301471\tbest: 0.4411765 (73)\ttotal: 33.9s\tremaining: 10.7s\n",
      "76:\tlearn: 0.9763206\ttest: 0.4301471\tbest: 0.4411765 (73)\ttotal: 34.3s\tremaining: 10.2s\n",
      "77:\tlearn: 0.9763206\ttest: 0.4301471\tbest: 0.4411765 (73)\ttotal: 34.8s\tremaining: 9.8s\n",
      "78:\tlearn: 0.9799636\ttest: 0.4264706\tbest: 0.4411765 (73)\ttotal: 35.2s\tremaining: 9.35s\n",
      "79:\tlearn: 0.9790528\ttest: 0.4264706\tbest: 0.4411765 (73)\ttotal: 35.6s\tremaining: 8.9s\n",
      "80:\tlearn: 0.9799636\ttest: 0.4227941\tbest: 0.4411765 (73)\ttotal: 36s\tremaining: 8.46s\n",
      "81:\tlearn: 0.9817851\ttest: 0.4301471\tbest: 0.4411765 (73)\ttotal: 36.5s\tremaining: 8.01s\n",
      "82:\tlearn: 0.9845173\ttest: 0.4227941\tbest: 0.4411765 (73)\ttotal: 36.9s\tremaining: 7.56s\n",
      "83:\tlearn: 0.9854281\ttest: 0.4375000\tbest: 0.4411765 (73)\ttotal: 37.4s\tremaining: 7.12s\n",
      "84:\tlearn: 0.9899818\ttest: 0.4264706\tbest: 0.4411765 (73)\ttotal: 37.8s\tremaining: 6.67s\n",
      "85:\tlearn: 0.9908925\ttest: 0.4338235\tbest: 0.4411765 (73)\ttotal: 38.2s\tremaining: 6.22s\n",
      "86:\tlearn: 0.9908925\ttest: 0.4301471\tbest: 0.4411765 (73)\ttotal: 38.6s\tremaining: 5.77s\n",
      "87:\tlearn: 0.9918033\ttest: 0.4264706\tbest: 0.4411765 (73)\ttotal: 39s\tremaining: 5.32s\n",
      "88:\tlearn: 0.9918033\ttest: 0.4227941\tbest: 0.4411765 (73)\ttotal: 39.6s\tremaining: 4.89s\n",
      "89:\tlearn: 0.9927140\ttest: 0.4264706\tbest: 0.4411765 (73)\ttotal: 40.1s\tremaining: 4.45s\n",
      "90:\tlearn: 0.9954463\ttest: 0.4264706\tbest: 0.4411765 (73)\ttotal: 40.5s\tremaining: 4.01s\n",
      "91:\tlearn: 0.9954463\ttest: 0.4227941\tbest: 0.4411765 (73)\ttotal: 40.9s\tremaining: 3.56s\n",
      "92:\tlearn: 0.9945355\ttest: 0.4227941\tbest: 0.4411765 (73)\ttotal: 41.4s\tremaining: 3.11s\n",
      "93:\tlearn: 0.9963570\ttest: 0.4117647\tbest: 0.4411765 (73)\ttotal: 41.8s\tremaining: 2.67s\n"
     ]
    },
    {
     "name": "stdout",
     "output_type": "stream",
     "text": [
      "94:\tlearn: 0.9963570\ttest: 0.4080882\tbest: 0.4411765 (73)\ttotal: 42.2s\tremaining: 2.22s\n",
      "95:\tlearn: 0.9963570\ttest: 0.4080882\tbest: 0.4411765 (73)\ttotal: 42.6s\tremaining: 1.78s\n",
      "96:\tlearn: 0.9972678\ttest: 0.4117647\tbest: 0.4411765 (73)\ttotal: 43.1s\tremaining: 1.33s\n",
      "97:\tlearn: 0.9972678\ttest: 0.4044118\tbest: 0.4411765 (73)\ttotal: 43.5s\tremaining: 888ms\n",
      "98:\tlearn: 0.9972678\ttest: 0.4044118\tbest: 0.4411765 (73)\ttotal: 43.9s\tremaining: 443ms\n",
      "99:\tlearn: 0.9972678\ttest: 0.4117647\tbest: 0.4411765 (73)\ttotal: 44.3s\tremaining: 0us\n",
      "\n",
      "bestTest = 0.4411764706\n",
      "bestIteration = 73\n",
      "\n",
      "Shrink model to first 74 iterations.\n"
     ]
    },
    {
     "data": {
      "text/plain": [
       "<catboost.core.CatBoostClassifier at 0x7f3450471250>"
      ]
     },
     "execution_count": 22,
     "metadata": {},
     "output_type": "execute_result"
    }
   ],
   "source": [
    "model.fit(X_train,y_train,eval_set=(X_test , y_test))"
   ]
  },
  {
   "cell_type": "code",
   "execution_count": null,
   "metadata": {},
   "outputs": [],
   "source": [
    "y_pred = model.predict(X_test)"
   ]
  },
  {
   "cell_type": "code",
   "execution_count": 15,
   "metadata": {},
   "outputs": [
    {
     "name": "stdout",
     "output_type": "stream",
     "text": [
      "              precision    recall  f1-score   support\n",
      "\n",
      "           0       0.50      0.46      0.48        26\n",
      "           1       0.37      0.39      0.38        28\n",
      "           2       0.36      0.37      0.36        27\n",
      "           3       0.43      0.60      0.50        30\n",
      "           4       0.33      0.27      0.30        26\n",
      "           5       0.35      0.29      0.31        28\n",
      "           6       0.56      0.54      0.55        26\n",
      "           7       0.44      0.43      0.44        28\n",
      "           8       0.52      0.59      0.55        27\n",
      "           9       0.52      0.42      0.47        26\n",
      "\n",
      "    accuracy                           0.44       272\n",
      "   macro avg       0.44      0.44      0.43       272\n",
      "weighted avg       0.44      0.44      0.43       272\n",
      "\n"
     ]
    }
   ],
   "source": [
    "print(metrics.classification_report(y_pred = y_pred , y_true = y_test))"
   ]
  },
  {
   "cell_type": "code",
   "execution_count": 59,
   "metadata": {},
   "outputs": [],
   "source": [
    "from sklearn import svm\n",
    "clf = svm.SVC(C=1 , kernel = 'linear')"
   ]
  },
  {
   "cell_type": "code",
   "execution_count": 60,
   "metadata": {},
   "outputs": [
    {
     "data": {
      "text/plain": [
       "SVC(C=1, break_ties=False, cache_size=200, class_weight=None, coef0=0.0,\n",
       "    decision_function_shape='ovr', degree=3, gamma='scale', kernel='linear',\n",
       "    max_iter=-1, probability=False, random_state=None, shrinking=True,\n",
       "    tol=0.001, verbose=False)"
      ]
     },
     "execution_count": 60,
     "metadata": {},
     "output_type": "execute_result"
    }
   ],
   "source": [
    "clf.fit(X_train, y_train)"
   ]
  },
  {
   "cell_type": "code",
   "execution_count": 61,
   "metadata": {},
   "outputs": [
    {
     "name": "stdout",
     "output_type": "stream",
     "text": [
      "              precision    recall  f1-score   support\n",
      "\n",
      "           0       0.42      0.42      0.42        26\n",
      "           1       0.39      0.54      0.45        28\n",
      "           2       0.26      0.30      0.28        27\n",
      "           3       0.42      0.43      0.43        30\n",
      "           4       0.35      0.27      0.30        26\n",
      "           5       0.17      0.14      0.15        28\n",
      "           6       0.36      0.31      0.33        26\n",
      "           7       0.29      0.25      0.27        28\n",
      "           8       0.42      0.59      0.49        27\n",
      "           9       0.44      0.31      0.36        26\n",
      "\n",
      "    accuracy                           0.36       272\n",
      "   macro avg       0.35      0.36      0.35       272\n",
      "weighted avg       0.35      0.36      0.35       272\n",
      "\n"
     ]
    }
   ],
   "source": [
    "y_pred = clf.predict(X_test)\n",
    "print(metrics.classification_report(y_pred = y_pred , y_true = y_test))"
   ]
  },
  {
   "cell_type": "code",
   "execution_count": 56,
   "metadata": {},
   "outputs": [],
   "source": [
    "from xgboost import XGBClassifier\n",
    "xgb =  XGBClassifier(eta = 0.01 , gamma =10 , max_depth =12)"
   ]
  },
  {
   "cell_type": "code",
   "execution_count": 57,
   "metadata": {},
   "outputs": [
    {
     "data": {
      "text/plain": [
       "XGBClassifier(base_score=0.5, booster='gbtree', callbacks=None,\n",
       "              colsample_bylevel=1, colsample_bynode=1, colsample_bytree=1,\n",
       "              early_stopping_rounds=None, enable_categorical=False, eta=0.01,\n",
       "              eval_metric=None, gamma=10, gpu_id=-1, grow_policy='depthwise',\n",
       "              importance_type=None, interaction_constraints='',\n",
       "              learning_rate=0.00999999978, max_bin=256, max_cat_to_onehot=4,\n",
       "              max_delta_step=0, max_depth=12, max_leaves=0, min_child_weight=1,\n",
       "              missing=nan, monotone_constraints='()', n_estimators=100,\n",
       "              n_jobs=0, num_parallel_tree=1, objective='multi:softprob',\n",
       "              predictor='auto', random_state=0, ...)"
      ]
     },
     "execution_count": 57,
     "metadata": {},
     "output_type": "execute_result"
    }
   ],
   "source": [
    "xgb.fit(X_train, y_train)"
   ]
  },
  {
   "cell_type": "code",
   "execution_count": 37,
   "metadata": {},
   "outputs": [
    {
     "name": "stdout",
     "output_type": "stream",
     "text": [
      "              precision    recall  f1-score   support\n",
      "\n",
      "           0       0.48      0.46      0.47        26\n",
      "           1       0.41      0.43      0.42        28\n",
      "           2       0.34      0.41      0.37        27\n",
      "           3       0.40      0.47      0.43        30\n",
      "           4       0.23      0.19      0.21        26\n",
      "           5       0.30      0.25      0.27        28\n",
      "           6       0.56      0.58      0.57        26\n",
      "           7       0.39      0.39      0.39        28\n",
      "           8       0.48      0.56      0.52        27\n",
      "           9       0.50      0.38      0.43        26\n",
      "\n",
      "    accuracy                           0.41       272\n",
      "   macro avg       0.41      0.41      0.41       272\n",
      "weighted avg       0.41      0.41      0.41       272\n",
      "\n"
     ]
    }
   ],
   "source": [
    "y_pred = xgb.predict(X_test)\n",
    "print(metrics.classification_report(y_pred = y_pred , y_true = y_test))"
   ]
  },
  {
   "cell_type": "code",
   "execution_count": 69,
   "metadata": {},
   "outputs": [],
   "source": [
    "from sklearn.ensemble import RandomForestClassifier\n",
    "rf = RandomForestClassifier(n_estimators=2000, random_state=0)"
   ]
  },
  {
   "cell_type": "code",
   "execution_count": 70,
   "metadata": {},
   "outputs": [
    {
     "data": {
      "text/plain": [
       "RandomForestClassifier(bootstrap=True, ccp_alpha=0.0, class_weight=None,\n",
       "                       criterion='gini', max_depth=None, max_features='auto',\n",
       "                       max_leaf_nodes=None, max_samples=None,\n",
       "                       min_impurity_decrease=0.0, min_impurity_split=None,\n",
       "                       min_samples_leaf=1, min_samples_split=2,\n",
       "                       min_weight_fraction_leaf=0.0, n_estimators=2000,\n",
       "                       n_jobs=None, oob_score=False, random_state=0, verbose=0,\n",
       "                       warm_start=False)"
      ]
     },
     "execution_count": 70,
     "metadata": {},
     "output_type": "execute_result"
    }
   ],
   "source": [
    "rf.fit(X_train, y_train)"
   ]
  },
  {
   "cell_type": "code",
   "execution_count": 71,
   "metadata": {},
   "outputs": [
    {
     "name": "stdout",
     "output_type": "stream",
     "text": [
      "              precision    recall  f1-score   support\n",
      "\n",
      "           0       0.47      0.58      0.52        26\n",
      "           1       0.37      0.46      0.41        28\n",
      "           2       0.75      0.33      0.46        27\n",
      "           3       0.37      0.43      0.40        30\n",
      "           4       0.31      0.19      0.24        26\n",
      "           5       0.35      0.29      0.31        28\n",
      "           6       0.49      0.65      0.56        26\n",
      "           7       0.36      0.36      0.36        28\n",
      "           8       0.55      0.63      0.59        27\n",
      "           9       0.52      0.50      0.51        26\n",
      "\n",
      "    accuracy                           0.44       272\n",
      "   macro avg       0.45      0.44      0.44       272\n",
      "weighted avg       0.45      0.44      0.43       272\n",
      "\n"
     ]
    }
   ],
   "source": [
    "y_pred = rf.predict(X_test)\n",
    "print(metrics.classification_report(y_pred = y_pred , y_true = y_test))"
   ]
  },
  {
   "cell_type": "code",
   "execution_count": null,
   "metadata": {},
   "outputs": [],
   "source": []
  },
  {
   "cell_type": "code",
   "execution_count": null,
   "metadata": {},
   "outputs": [],
   "source": []
  }
 ],
 "metadata": {
  "kernelspec": {
   "display_name": "Python 3",
   "language": "python",
   "name": "python3"
  },
  "language_info": {
   "codemirror_mode": {
    "name": "ipython",
    "version": 3
   },
   "file_extension": ".py",
   "mimetype": "text/x-python",
   "name": "python",
   "nbconvert_exporter": "python",
   "pygments_lexer": "ipython3",
   "version": "3.7.6"
  }
 },
 "nbformat": 4,
 "nbformat_minor": 4
}
