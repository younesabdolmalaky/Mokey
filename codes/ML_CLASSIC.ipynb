{
 "cells": [
  {
   "cell_type": "code",
   "execution_count": 17,
   "metadata": {},
   "outputs": [],
   "source": [
    "import pandas as pd\n",
    "import numpy as np\n",
    "import matplotlib.pyplot as plt\n",
    "import cv2\n",
    "import mahotas\n",
    "import h5py\n",
    "import imageio as iio\n",
    "import os\n",
    "from os import listdir\n",
    "from itertools import chain\n",
    "import pickle\n",
    "from catboost import CatBoostClassifier\n",
    "from sklearn import metrics"
   ]
  },
  {
   "cell_type": "code",
   "execution_count": 18,
   "metadata": {},
   "outputs": [],
   "source": [
    "with open('../datasets/X_train.pkl', 'rb') as f:\n",
    "    X_train = pickle.load(f)\n",
    "\n",
    "with open('../datasets/y_train.pkl', 'rb') as f:\n",
    "    y_train = pickle.load(f)\n",
    "\n",
    "with open('../datasets/X_test.pkl', 'rb') as f:\n",
    "    X_test = pickle.load(f)\n",
    "\n",
    "with open('../datasets/y_test.pkl', 'rb') as f:\n",
    "    y_test = pickle.load(f)"
   ]
  },
  {
   "cell_type": "code",
   "execution_count": 19,
   "metadata": {},
   "outputs": [],
   "source": [
    "X_test1 = np.array(X_test[:,768:])\n",
    "X_train1 = np.array(X_train[:,768:])\n",
    "\n",
    "X_test = np.array(X_test[:,:768])\n",
    "X_train = np.array(X_train[:,:768])"
   ]
  },
  {
   "cell_type": "code",
   "execution_count": 4,
   "metadata": {},
   "outputs": [],
   "source": [
    "model = CatBoostClassifier(iterations=200,learning_rate = 1 , depth = 6, eval_metric = 'Accuracy')"
   ]
  },
  {
   "cell_type": "code",
   "execution_count": 5,
   "metadata": {},
   "outputs": [
    {
     "name": "stdout",
     "output_type": "stream",
     "text": [
      "0:\tlearn: 0.2231330\ttest: 0.1654412\tbest: 0.1654412 (0)\ttotal: 714ms\tremaining: 2m 22s\n",
      "1:\tlearn: 0.2577413\ttest: 0.1764706\tbest: 0.1764706 (1)\ttotal: 1.5s\tremaining: 2m 28s\n",
      "2:\tlearn: 0.2959927\ttest: 0.1801471\tbest: 0.1801471 (2)\ttotal: 2.16s\tremaining: 2m 21s\n",
      "3:\tlearn: 0.3369763\ttest: 0.1948529\tbest: 0.1948529 (3)\ttotal: 3.14s\tremaining: 2m 33s\n",
      "4:\tlearn: 0.3816029\ttest: 0.1764706\tbest: 0.1948529 (3)\ttotal: 3.79s\tremaining: 2m 27s\n",
      "5:\tlearn: 0.3852459\ttest: 0.2022059\tbest: 0.2022059 (5)\ttotal: 4.44s\tremaining: 2m 23s\n",
      "6:\tlearn: 0.4153005\ttest: 0.1948529\tbest: 0.2022059 (5)\ttotal: 5.1s\tremaining: 2m 20s\n",
      "7:\tlearn: 0.4326047\ttest: 0.2058824\tbest: 0.2058824 (7)\ttotal: 5.77s\tremaining: 2m 18s\n",
      "8:\tlearn: 0.4672131\ttest: 0.2169118\tbest: 0.2169118 (8)\ttotal: 6.42s\tremaining: 2m 16s\n",
      "9:\tlearn: 0.4899818\ttest: 0.2279412\tbest: 0.2279412 (9)\ttotal: 7.07s\tremaining: 2m 14s\n",
      "10:\tlearn: 0.4972678\ttest: 0.2352941\tbest: 0.2352941 (10)\ttotal: 7.73s\tremaining: 2m 12s\n",
      "11:\tlearn: 0.5154827\ttest: 0.2389706\tbest: 0.2389706 (11)\ttotal: 8.38s\tremaining: 2m 11s\n",
      "12:\tlearn: 0.5355191\ttest: 0.2500000\tbest: 0.2500000 (12)\ttotal: 9.04s\tremaining: 2m 9s\n",
      "13:\tlearn: 0.5765027\ttest: 0.2205882\tbest: 0.2500000 (12)\ttotal: 9.68s\tremaining: 2m 8s\n",
      "14:\tlearn: 0.5992714\ttest: 0.2352941\tbest: 0.2500000 (12)\ttotal: 10.3s\tremaining: 2m 7s\n",
      "15:\tlearn: 0.6183971\ttest: 0.2316176\tbest: 0.2500000 (12)\ttotal: 11s\tremaining: 2m 6s\n",
      "16:\tlearn: 0.6320583\ttest: 0.2242647\tbest: 0.2500000 (12)\ttotal: 11.6s\tremaining: 2m 5s\n",
      "17:\tlearn: 0.6402550\ttest: 0.2242647\tbest: 0.2500000 (12)\ttotal: 12.3s\tremaining: 2m 4s\n",
      "18:\tlearn: 0.6666667\ttest: 0.2279412\tbest: 0.2500000 (12)\ttotal: 13s\tremaining: 2m 3s\n",
      "19:\tlearn: 0.6930783\ttest: 0.2169118\tbest: 0.2500000 (12)\ttotal: 13.6s\tremaining: 2m 2s\n",
      "20:\tlearn: 0.7021858\ttest: 0.2169118\tbest: 0.2500000 (12)\ttotal: 14.3s\tremaining: 2m 1s\n",
      "21:\tlearn: 0.7194900\ttest: 0.2205882\tbest: 0.2500000 (12)\ttotal: 14.9s\tremaining: 2m\n",
      "22:\tlearn: 0.7313297\ttest: 0.2279412\tbest: 0.2500000 (12)\ttotal: 15.6s\tremaining: 2m\n",
      "23:\tlearn: 0.7604736\ttest: 0.2610294\tbest: 0.2610294 (23)\ttotal: 16.3s\tremaining: 1m 59s\n",
      "24:\tlearn: 0.7686703\ttest: 0.2573529\tbest: 0.2610294 (23)\ttotal: 16.9s\tremaining: 1m 58s\n",
      "25:\tlearn: 0.7795993\ttest: 0.2536765\tbest: 0.2610294 (23)\ttotal: 17.6s\tremaining: 1m 57s\n",
      "26:\tlearn: 0.7959927\ttest: 0.2463235\tbest: 0.2610294 (23)\ttotal: 18.2s\tremaining: 1m 56s\n",
      "27:\tlearn: 0.7996357\ttest: 0.2463235\tbest: 0.2610294 (23)\ttotal: 18.9s\tremaining: 1m 55s\n",
      "28:\tlearn: 0.8105647\ttest: 0.2500000\tbest: 0.2610294 (23)\ttotal: 19.5s\tremaining: 1m 55s\n",
      "29:\tlearn: 0.8287796\ttest: 0.2389706\tbest: 0.2610294 (23)\ttotal: 20.2s\tremaining: 1m 54s\n",
      "30:\tlearn: 0.8460838\ttest: 0.2610294\tbest: 0.2610294 (23)\ttotal: 20.8s\tremaining: 1m 53s\n",
      "31:\tlearn: 0.8497268\ttest: 0.2610294\tbest: 0.2610294 (23)\ttotal: 21.5s\tremaining: 1m 52s\n",
      "32:\tlearn: 0.8615665\ttest: 0.2683824\tbest: 0.2683824 (32)\ttotal: 22.1s\tremaining: 1m 51s\n",
      "33:\tlearn: 0.8588342\ttest: 0.2757353\tbest: 0.2757353 (33)\ttotal: 22.8s\tremaining: 1m 51s\n",
      "34:\tlearn: 0.8724954\ttest: 0.2720588\tbest: 0.2757353 (33)\ttotal: 23.4s\tremaining: 1m 50s\n",
      "35:\tlearn: 0.8788707\ttest: 0.2683824\tbest: 0.2757353 (33)\ttotal: 24.1s\tremaining: 1m 50s\n",
      "36:\tlearn: 0.8852459\ttest: 0.2647059\tbest: 0.2757353 (33)\ttotal: 24.8s\tremaining: 1m 49s\n",
      "37:\tlearn: 0.8970856\ttest: 0.2794118\tbest: 0.2794118 (37)\ttotal: 25.4s\tremaining: 1m 48s\n",
      "38:\tlearn: 0.9052823\ttest: 0.2904412\tbest: 0.2904412 (38)\ttotal: 26.2s\tremaining: 1m 47s\n",
      "39:\tlearn: 0.9043716\ttest: 0.2830882\tbest: 0.2904412 (38)\ttotal: 26.8s\tremaining: 1m 47s\n",
      "40:\tlearn: 0.9061931\ttest: 0.2830882\tbest: 0.2904412 (38)\ttotal: 27.5s\tremaining: 1m 46s\n",
      "41:\tlearn: 0.9198543\ttest: 0.2794118\tbest: 0.2904412 (38)\ttotal: 28.1s\tremaining: 1m 45s\n",
      "42:\tlearn: 0.9298725\ttest: 0.2904412\tbest: 0.2904412 (38)\ttotal: 28.8s\tremaining: 1m 45s\n",
      "43:\tlearn: 0.9353370\ttest: 0.2757353\tbest: 0.2904412 (38)\ttotal: 29.4s\tremaining: 1m 44s\n",
      "44:\tlearn: 0.9344262\ttest: 0.2904412\tbest: 0.2904412 (38)\ttotal: 30.1s\tremaining: 1m 43s\n",
      "45:\tlearn: 0.9471767\ttest: 0.2867647\tbest: 0.2904412 (38)\ttotal: 30.7s\tremaining: 1m 42s\n",
      "46:\tlearn: 0.9499089\ttest: 0.2904412\tbest: 0.2904412 (38)\ttotal: 31.4s\tremaining: 1m 42s\n",
      "47:\tlearn: 0.9535519\ttest: 0.2904412\tbest: 0.2904412 (38)\ttotal: 32s\tremaining: 1m 41s\n",
      "48:\tlearn: 0.9581056\ttest: 0.2867647\tbest: 0.2904412 (38)\ttotal: 32.7s\tremaining: 1m 40s\n",
      "49:\tlearn: 0.9581056\ttest: 0.2941176\tbest: 0.2941176 (49)\ttotal: 33.3s\tremaining: 1m 40s\n",
      "50:\tlearn: 0.9644809\ttest: 0.2977941\tbest: 0.2977941 (50)\ttotal: 34s\tremaining: 1m 39s\n",
      "51:\tlearn: 0.9681239\ttest: 0.2941176\tbest: 0.2977941 (50)\ttotal: 34.6s\tremaining: 1m 38s\n",
      "52:\tlearn: 0.9708561\ttest: 0.2941176\tbest: 0.2977941 (50)\ttotal: 35.3s\tremaining: 1m 37s\n",
      "53:\tlearn: 0.9708561\ttest: 0.2941176\tbest: 0.2977941 (50)\ttotal: 35.9s\tremaining: 1m 37s\n",
      "54:\tlearn: 0.9717668\ttest: 0.2941176\tbest: 0.2977941 (50)\ttotal: 36.6s\tremaining: 1m 36s\n",
      "55:\tlearn: 0.9754098\ttest: 0.2867647\tbest: 0.2977941 (50)\ttotal: 37.2s\tremaining: 1m 35s\n",
      "56:\tlearn: 0.9763206\ttest: 0.2904412\tbest: 0.2977941 (50)\ttotal: 37.9s\tremaining: 1m 35s\n",
      "57:\tlearn: 0.9781421\ttest: 0.2904412\tbest: 0.2977941 (50)\ttotal: 38.5s\tremaining: 1m 34s\n",
      "58:\tlearn: 0.9781421\ttest: 0.2830882\tbest: 0.2977941 (50)\ttotal: 39.2s\tremaining: 1m 33s\n",
      "59:\tlearn: 0.9826958\ttest: 0.2794118\tbest: 0.2977941 (50)\ttotal: 39.8s\tremaining: 1m 32s\n",
      "60:\tlearn: 0.9808743\ttest: 0.2794118\tbest: 0.2977941 (50)\ttotal: 40.5s\tremaining: 1m 32s\n",
      "61:\tlearn: 0.9817851\ttest: 0.2830882\tbest: 0.2977941 (50)\ttotal: 41.1s\tremaining: 1m 31s\n",
      "62:\tlearn: 0.9845173\ttest: 0.2904412\tbest: 0.2977941 (50)\ttotal: 41.8s\tremaining: 1m 30s\n",
      "63:\tlearn: 0.9863388\ttest: 0.2867647\tbest: 0.2977941 (50)\ttotal: 42.4s\tremaining: 1m 30s\n",
      "64:\tlearn: 0.9872495\ttest: 0.2794118\tbest: 0.2977941 (50)\ttotal: 43.1s\tremaining: 1m 29s\n",
      "65:\tlearn: 0.9872495\ttest: 0.2904412\tbest: 0.2977941 (50)\ttotal: 43.7s\tremaining: 1m 28s\n",
      "66:\tlearn: 0.9890710\ttest: 0.2941176\tbest: 0.2977941 (50)\ttotal: 44.4s\tremaining: 1m 28s\n",
      "67:\tlearn: 0.9890710\ttest: 0.2904412\tbest: 0.2977941 (50)\ttotal: 45s\tremaining: 1m 27s\n",
      "68:\tlearn: 0.9918033\ttest: 0.3014706\tbest: 0.3014706 (68)\ttotal: 45.7s\tremaining: 1m 26s\n",
      "69:\tlearn: 0.9927140\ttest: 0.2977941\tbest: 0.3014706 (68)\ttotal: 46.3s\tremaining: 1m 26s\n",
      "70:\tlearn: 0.9918033\ttest: 0.2904412\tbest: 0.3014706 (68)\ttotal: 47s\tremaining: 1m 25s\n",
      "71:\tlearn: 0.9918033\ttest: 0.2904412\tbest: 0.3014706 (68)\ttotal: 47.6s\tremaining: 1m 24s\n",
      "72:\tlearn: 0.9954463\ttest: 0.3088235\tbest: 0.3088235 (72)\ttotal: 48.3s\tremaining: 1m 23s\n",
      "73:\tlearn: 0.9954463\ttest: 0.3198529\tbest: 0.3198529 (73)\ttotal: 48.9s\tremaining: 1m 23s\n",
      "74:\tlearn: 0.9972678\ttest: 0.3198529\tbest: 0.3198529 (73)\ttotal: 49.6s\tremaining: 1m 22s\n",
      "75:\tlearn: 0.9963570\ttest: 0.3198529\tbest: 0.3198529 (73)\ttotal: 50.2s\tremaining: 1m 21s\n",
      "76:\tlearn: 0.9972678\ttest: 0.3198529\tbest: 0.3198529 (73)\ttotal: 50.9s\tremaining: 1m 21s\n",
      "77:\tlearn: 0.9981785\ttest: 0.3272059\tbest: 0.3272059 (77)\ttotal: 51.6s\tremaining: 1m 20s\n",
      "78:\tlearn: 0.9981785\ttest: 0.3272059\tbest: 0.3272059 (77)\ttotal: 52.2s\tremaining: 1m 20s\n",
      "79:\tlearn: 0.9981785\ttest: 0.3235294\tbest: 0.3272059 (77)\ttotal: 52.9s\tremaining: 1m 19s\n",
      "80:\tlearn: 0.9990893\ttest: 0.3161765\tbest: 0.3272059 (77)\ttotal: 53.6s\tremaining: 1m 18s\n",
      "81:\tlearn: 0.9990893\ttest: 0.3161765\tbest: 0.3272059 (77)\ttotal: 54.2s\tremaining: 1m 18s\n",
      "82:\tlearn: 0.9990893\ttest: 0.3161765\tbest: 0.3272059 (77)\ttotal: 54.9s\tremaining: 1m 17s\n",
      "83:\tlearn: 0.9981785\ttest: 0.3198529\tbest: 0.3272059 (77)\ttotal: 55.5s\tremaining: 1m 16s\n",
      "84:\tlearn: 0.9990893\ttest: 0.2977941\tbest: 0.3272059 (77)\ttotal: 56.2s\tremaining: 1m 16s\n",
      "85:\tlearn: 0.9990893\ttest: 0.2977941\tbest: 0.3272059 (77)\ttotal: 56.8s\tremaining: 1m 15s\n",
      "86:\tlearn: 0.9990893\ttest: 0.3088235\tbest: 0.3272059 (77)\ttotal: 57.5s\tremaining: 1m 14s\n",
      "87:\tlearn: 0.9990893\ttest: 0.2941176\tbest: 0.3272059 (77)\ttotal: 58.1s\tremaining: 1m 13s\n",
      "88:\tlearn: 0.9990893\ttest: 0.2977941\tbest: 0.3272059 (77)\ttotal: 58.8s\tremaining: 1m 13s\n",
      "89:\tlearn: 0.9990893\ttest: 0.2941176\tbest: 0.3272059 (77)\ttotal: 59.4s\tremaining: 1m 12s\n",
      "90:\tlearn: 0.9990893\ttest: 0.2977941\tbest: 0.3272059 (77)\ttotal: 1m\tremaining: 1m 12s\n",
      "91:\tlearn: 0.9990893\ttest: 0.3088235\tbest: 0.3272059 (77)\ttotal: 1m\tremaining: 1m 11s\n",
      "92:\tlearn: 0.9990893\ttest: 0.2941176\tbest: 0.3272059 (77)\ttotal: 1m 1s\tremaining: 1m 10s\n"
     ]
    },
    {
     "name": "stdout",
     "output_type": "stream",
     "text": [
      "93:\tlearn: 0.9990893\ttest: 0.2977941\tbest: 0.3272059 (77)\ttotal: 1m 2s\tremaining: 1m 10s\n",
      "94:\tlearn: 0.9990893\ttest: 0.2977941\tbest: 0.3272059 (77)\ttotal: 1m 2s\tremaining: 1m 9s\n",
      "95:\tlearn: 0.9990893\ttest: 0.2977941\tbest: 0.3272059 (77)\ttotal: 1m 3s\tremaining: 1m 8s\n",
      "96:\tlearn: 0.9990893\ttest: 0.2941176\tbest: 0.3272059 (77)\ttotal: 1m 4s\tremaining: 1m 7s\n",
      "97:\tlearn: 0.9990893\ttest: 0.3014706\tbest: 0.3272059 (77)\ttotal: 1m 4s\tremaining: 1m 7s\n",
      "98:\tlearn: 0.9990893\ttest: 0.2941176\tbest: 0.3272059 (77)\ttotal: 1m 5s\tremaining: 1m 6s\n",
      "99:\tlearn: 0.9990893\ttest: 0.2977941\tbest: 0.3272059 (77)\ttotal: 1m 5s\tremaining: 1m 5s\n",
      "100:\tlearn: 0.9990893\ttest: 0.2977941\tbest: 0.3272059 (77)\ttotal: 1m 6s\tremaining: 1m 5s\n",
      "101:\tlearn: 0.9990893\ttest: 0.2977941\tbest: 0.3272059 (77)\ttotal: 1m 7s\tremaining: 1m 4s\n",
      "102:\tlearn: 0.9990893\ttest: 0.2941176\tbest: 0.3272059 (77)\ttotal: 1m 7s\tremaining: 1m 3s\n",
      "103:\tlearn: 1.0000000\ttest: 0.2977941\tbest: 0.3272059 (77)\ttotal: 1m 8s\tremaining: 1m 3s\n",
      "104:\tlearn: 1.0000000\ttest: 0.2977941\tbest: 0.3272059 (77)\ttotal: 1m 9s\tremaining: 1m 2s\n",
      "105:\tlearn: 1.0000000\ttest: 0.2977941\tbest: 0.3272059 (77)\ttotal: 1m 9s\tremaining: 1m 1s\n",
      "106:\tlearn: 1.0000000\ttest: 0.2977941\tbest: 0.3272059 (77)\ttotal: 1m 10s\tremaining: 1m 1s\n",
      "107:\tlearn: 1.0000000\ttest: 0.3014706\tbest: 0.3272059 (77)\ttotal: 1m 11s\tremaining: 1m\n",
      "108:\tlearn: 1.0000000\ttest: 0.2977941\tbest: 0.3272059 (77)\ttotal: 1m 11s\tremaining: 60s\n",
      "109:\tlearn: 1.0000000\ttest: 0.3014706\tbest: 0.3272059 (77)\ttotal: 1m 12s\tremaining: 59.3s\n",
      "110:\tlearn: 1.0000000\ttest: 0.3014706\tbest: 0.3272059 (77)\ttotal: 1m 13s\tremaining: 58.6s\n",
      "111:\tlearn: 1.0000000\ttest: 0.2941176\tbest: 0.3272059 (77)\ttotal: 1m 13s\tremaining: 58s\n",
      "112:\tlearn: 1.0000000\ttest: 0.2941176\tbest: 0.3272059 (77)\ttotal: 1m 14s\tremaining: 57.3s\n",
      "113:\tlearn: 1.0000000\ttest: 0.2977941\tbest: 0.3272059 (77)\ttotal: 1m 15s\tremaining: 56.6s\n",
      "114:\tlearn: 1.0000000\ttest: 0.3014706\tbest: 0.3272059 (77)\ttotal: 1m 15s\tremaining: 55.9s\n",
      "115:\tlearn: 1.0000000\ttest: 0.2977941\tbest: 0.3272059 (77)\ttotal: 1m 16s\tremaining: 55.3s\n",
      "116:\tlearn: 1.0000000\ttest: 0.2904412\tbest: 0.3272059 (77)\ttotal: 1m 16s\tremaining: 54.6s\n",
      "117:\tlearn: 1.0000000\ttest: 0.2904412\tbest: 0.3272059 (77)\ttotal: 1m 17s\tremaining: 54s\n",
      "118:\tlearn: 1.0000000\ttest: 0.2904412\tbest: 0.3272059 (77)\ttotal: 1m 18s\tremaining: 53.3s\n",
      "119:\tlearn: 1.0000000\ttest: 0.2904412\tbest: 0.3272059 (77)\ttotal: 1m 18s\tremaining: 52.6s\n",
      "120:\tlearn: 1.0000000\ttest: 0.2904412\tbest: 0.3272059 (77)\ttotal: 1m 19s\tremaining: 52s\n",
      "121:\tlearn: 1.0000000\ttest: 0.2904412\tbest: 0.3272059 (77)\ttotal: 1m 20s\tremaining: 51.3s\n",
      "122:\tlearn: 1.0000000\ttest: 0.2941176\tbest: 0.3272059 (77)\ttotal: 1m 20s\tremaining: 50.6s\n",
      "123:\tlearn: 1.0000000\ttest: 0.2941176\tbest: 0.3272059 (77)\ttotal: 1m 21s\tremaining: 50s\n",
      "124:\tlearn: 1.0000000\ttest: 0.2941176\tbest: 0.3272059 (77)\ttotal: 1m 22s\tremaining: 49.3s\n",
      "125:\tlearn: 1.0000000\ttest: 0.2904412\tbest: 0.3272059 (77)\ttotal: 1m 22s\tremaining: 48.6s\n",
      "126:\tlearn: 1.0000000\ttest: 0.2867647\tbest: 0.3272059 (77)\ttotal: 1m 23s\tremaining: 48s\n",
      "127:\tlearn: 1.0000000\ttest: 0.2904412\tbest: 0.3272059 (77)\ttotal: 1m 24s\tremaining: 47.3s\n",
      "128:\tlearn: 1.0000000\ttest: 0.2941176\tbest: 0.3272059 (77)\ttotal: 1m 24s\tremaining: 46.7s\n",
      "129:\tlearn: 1.0000000\ttest: 0.2977941\tbest: 0.3272059 (77)\ttotal: 1m 25s\tremaining: 46s\n",
      "130:\tlearn: 1.0000000\ttest: 0.3014706\tbest: 0.3272059 (77)\ttotal: 1m 26s\tremaining: 45.3s\n",
      "131:\tlearn: 1.0000000\ttest: 0.2977941\tbest: 0.3272059 (77)\ttotal: 1m 26s\tremaining: 44.7s\n",
      "132:\tlearn: 1.0000000\ttest: 0.2977941\tbest: 0.3272059 (77)\ttotal: 1m 27s\tremaining: 44s\n",
      "133:\tlearn: 1.0000000\ttest: 0.2977941\tbest: 0.3272059 (77)\ttotal: 1m 28s\tremaining: 43.4s\n",
      "134:\tlearn: 1.0000000\ttest: 0.2977941\tbest: 0.3272059 (77)\ttotal: 1m 28s\tremaining: 42.7s\n",
      "135:\tlearn: 1.0000000\ttest: 0.2977941\tbest: 0.3272059 (77)\ttotal: 1m 29s\tremaining: 42s\n",
      "136:\tlearn: 1.0000000\ttest: 0.2977941\tbest: 0.3272059 (77)\ttotal: 1m 29s\tremaining: 41.4s\n",
      "137:\tlearn: 1.0000000\ttest: 0.2977941\tbest: 0.3272059 (77)\ttotal: 1m 30s\tremaining: 40.7s\n",
      "138:\tlearn: 1.0000000\ttest: 0.2977941\tbest: 0.3272059 (77)\ttotal: 1m 31s\tremaining: 40s\n",
      "139:\tlearn: 1.0000000\ttest: 0.2977941\tbest: 0.3272059 (77)\ttotal: 1m 31s\tremaining: 39.4s\n",
      "140:\tlearn: 1.0000000\ttest: 0.2867647\tbest: 0.3272059 (77)\ttotal: 1m 32s\tremaining: 38.7s\n",
      "141:\tlearn: 1.0000000\ttest: 0.2904412\tbest: 0.3272059 (77)\ttotal: 1m 33s\tremaining: 38.1s\n",
      "142:\tlearn: 1.0000000\ttest: 0.2941176\tbest: 0.3272059 (77)\ttotal: 1m 33s\tremaining: 37.4s\n",
      "143:\tlearn: 1.0000000\ttest: 0.2977941\tbest: 0.3272059 (77)\ttotal: 1m 34s\tremaining: 36.8s\n",
      "144:\tlearn: 1.0000000\ttest: 0.2904412\tbest: 0.3272059 (77)\ttotal: 1m 35s\tremaining: 36.1s\n",
      "145:\tlearn: 1.0000000\ttest: 0.2941176\tbest: 0.3272059 (77)\ttotal: 1m 35s\tremaining: 35.4s\n",
      "146:\tlearn: 1.0000000\ttest: 0.2977941\tbest: 0.3272059 (77)\ttotal: 1m 36s\tremaining: 34.8s\n",
      "147:\tlearn: 1.0000000\ttest: 0.2941176\tbest: 0.3272059 (77)\ttotal: 1m 37s\tremaining: 34.1s\n",
      "148:\tlearn: 1.0000000\ttest: 0.2941176\tbest: 0.3272059 (77)\ttotal: 1m 37s\tremaining: 33.5s\n",
      "149:\tlearn: 1.0000000\ttest: 0.2941176\tbest: 0.3272059 (77)\ttotal: 1m 38s\tremaining: 32.8s\n",
      "150:\tlearn: 1.0000000\ttest: 0.2941176\tbest: 0.3272059 (77)\ttotal: 1m 39s\tremaining: 32.1s\n",
      "151:\tlearn: 1.0000000\ttest: 0.2977941\tbest: 0.3272059 (77)\ttotal: 1m 39s\tremaining: 31.5s\n",
      "152:\tlearn: 1.0000000\ttest: 0.3014706\tbest: 0.3272059 (77)\ttotal: 1m 40s\tremaining: 30.8s\n",
      "153:\tlearn: 1.0000000\ttest: 0.2941176\tbest: 0.3272059 (77)\ttotal: 1m 41s\tremaining: 30.2s\n",
      "154:\tlearn: 1.0000000\ttest: 0.2977941\tbest: 0.3272059 (77)\ttotal: 1m 41s\tremaining: 29.5s\n",
      "155:\tlearn: 1.0000000\ttest: 0.2977941\tbest: 0.3272059 (77)\ttotal: 1m 42s\tremaining: 28.9s\n",
      "156:\tlearn: 1.0000000\ttest: 0.2977941\tbest: 0.3272059 (77)\ttotal: 1m 42s\tremaining: 28.2s\n",
      "157:\tlearn: 1.0000000\ttest: 0.3014706\tbest: 0.3272059 (77)\ttotal: 1m 43s\tremaining: 27.5s\n",
      "158:\tlearn: 1.0000000\ttest: 0.3051471\tbest: 0.3272059 (77)\ttotal: 1m 44s\tremaining: 26.9s\n",
      "159:\tlearn: 1.0000000\ttest: 0.3051471\tbest: 0.3272059 (77)\ttotal: 1m 44s\tremaining: 26.2s\n",
      "160:\tlearn: 1.0000000\ttest: 0.3051471\tbest: 0.3272059 (77)\ttotal: 1m 45s\tremaining: 25.6s\n",
      "161:\tlearn: 1.0000000\ttest: 0.3051471\tbest: 0.3272059 (77)\ttotal: 1m 46s\tremaining: 24.9s\n",
      "162:\tlearn: 1.0000000\ttest: 0.2977941\tbest: 0.3272059 (77)\ttotal: 1m 46s\tremaining: 24.3s\n",
      "163:\tlearn: 1.0000000\ttest: 0.2904412\tbest: 0.3272059 (77)\ttotal: 1m 47s\tremaining: 23.6s\n",
      "164:\tlearn: 1.0000000\ttest: 0.2904412\tbest: 0.3272059 (77)\ttotal: 1m 48s\tremaining: 22.9s\n",
      "165:\tlearn: 1.0000000\ttest: 0.2867647\tbest: 0.3272059 (77)\ttotal: 1m 48s\tremaining: 22.3s\n",
      "166:\tlearn: 1.0000000\ttest: 0.2867647\tbest: 0.3272059 (77)\ttotal: 1m 49s\tremaining: 21.6s\n",
      "167:\tlearn: 1.0000000\ttest: 0.2904412\tbest: 0.3272059 (77)\ttotal: 1m 50s\tremaining: 21s\n",
      "168:\tlearn: 1.0000000\ttest: 0.2904412\tbest: 0.3272059 (77)\ttotal: 1m 50s\tremaining: 20.3s\n",
      "169:\tlearn: 1.0000000\ttest: 0.2830882\tbest: 0.3272059 (77)\ttotal: 1m 51s\tremaining: 19.7s\n",
      "170:\tlearn: 1.0000000\ttest: 0.2904412\tbest: 0.3272059 (77)\ttotal: 1m 52s\tremaining: 19s\n",
      "171:\tlearn: 1.0000000\ttest: 0.2904412\tbest: 0.3272059 (77)\ttotal: 1m 52s\tremaining: 18.3s\n",
      "172:\tlearn: 1.0000000\ttest: 0.2904412\tbest: 0.3272059 (77)\ttotal: 1m 53s\tremaining: 17.7s\n",
      "173:\tlearn: 1.0000000\ttest: 0.2904412\tbest: 0.3272059 (77)\ttotal: 1m 54s\tremaining: 17s\n",
      "174:\tlearn: 1.0000000\ttest: 0.2904412\tbest: 0.3272059 (77)\ttotal: 1m 54s\tremaining: 16.4s\n",
      "175:\tlearn: 1.0000000\ttest: 0.2904412\tbest: 0.3272059 (77)\ttotal: 1m 55s\tremaining: 15.7s\n",
      "176:\tlearn: 1.0000000\ttest: 0.2977941\tbest: 0.3272059 (77)\ttotal: 1m 55s\tremaining: 15.1s\n",
      "177:\tlearn: 1.0000000\ttest: 0.2977941\tbest: 0.3272059 (77)\ttotal: 1m 56s\tremaining: 14.4s\n",
      "178:\tlearn: 1.0000000\ttest: 0.2941176\tbest: 0.3272059 (77)\ttotal: 1m 57s\tremaining: 13.8s\n",
      "179:\tlearn: 1.0000000\ttest: 0.2941176\tbest: 0.3272059 (77)\ttotal: 1m 57s\tremaining: 13.1s\n",
      "180:\tlearn: 1.0000000\ttest: 0.2941176\tbest: 0.3272059 (77)\ttotal: 1m 58s\tremaining: 12.4s\n",
      "181:\tlearn: 1.0000000\ttest: 0.2941176\tbest: 0.3272059 (77)\ttotal: 1m 59s\tremaining: 11.8s\n",
      "182:\tlearn: 1.0000000\ttest: 0.2941176\tbest: 0.3272059 (77)\ttotal: 1m 59s\tremaining: 11.1s\n",
      "183:\tlearn: 1.0000000\ttest: 0.2867647\tbest: 0.3272059 (77)\ttotal: 2m\tremaining: 10.5s\n",
      "184:\tlearn: 1.0000000\ttest: 0.2904412\tbest: 0.3272059 (77)\ttotal: 2m 1s\tremaining: 9.82s\n"
     ]
    },
    {
     "name": "stdout",
     "output_type": "stream",
     "text": [
      "185:\tlearn: 1.0000000\ttest: 0.2830882\tbest: 0.3272059 (77)\ttotal: 2m 1s\tremaining: 9.17s\n",
      "186:\tlearn: 1.0000000\ttest: 0.2904412\tbest: 0.3272059 (77)\ttotal: 2m 2s\tremaining: 8.51s\n",
      "187:\tlearn: 1.0000000\ttest: 0.2904412\tbest: 0.3272059 (77)\ttotal: 2m 3s\tremaining: 7.86s\n",
      "188:\tlearn: 1.0000000\ttest: 0.2904412\tbest: 0.3272059 (77)\ttotal: 2m 3s\tremaining: 7.2s\n",
      "189:\tlearn: 1.0000000\ttest: 0.2904412\tbest: 0.3272059 (77)\ttotal: 2m 4s\tremaining: 6.55s\n",
      "190:\tlearn: 1.0000000\ttest: 0.2904412\tbest: 0.3272059 (77)\ttotal: 2m 5s\tremaining: 5.89s\n",
      "191:\tlearn: 1.0000000\ttest: 0.2867647\tbest: 0.3272059 (77)\ttotal: 2m 5s\tremaining: 5.24s\n",
      "192:\tlearn: 1.0000000\ttest: 0.2867647\tbest: 0.3272059 (77)\ttotal: 2m 6s\tremaining: 4.58s\n",
      "193:\tlearn: 1.0000000\ttest: 0.2867647\tbest: 0.3272059 (77)\ttotal: 2m 6s\tremaining: 3.93s\n",
      "194:\tlearn: 1.0000000\ttest: 0.2867647\tbest: 0.3272059 (77)\ttotal: 2m 7s\tremaining: 3.27s\n",
      "195:\tlearn: 1.0000000\ttest: 0.2830882\tbest: 0.3272059 (77)\ttotal: 2m 8s\tremaining: 2.62s\n",
      "196:\tlearn: 1.0000000\ttest: 0.2830882\tbest: 0.3272059 (77)\ttotal: 2m 8s\tremaining: 1.96s\n",
      "197:\tlearn: 1.0000000\ttest: 0.2830882\tbest: 0.3272059 (77)\ttotal: 2m 9s\tremaining: 1.31s\n",
      "198:\tlearn: 1.0000000\ttest: 0.2794118\tbest: 0.3272059 (77)\ttotal: 2m 10s\tremaining: 654ms\n",
      "199:\tlearn: 1.0000000\ttest: 0.2830882\tbest: 0.3272059 (77)\ttotal: 2m 10s\tremaining: 0us\n",
      "\n",
      "bestTest = 0.3272058824\n",
      "bestIteration = 77\n",
      "\n",
      "Shrink model to first 78 iterations.\n"
     ]
    },
    {
     "data": {
      "text/plain": [
       "<catboost.core.CatBoostClassifier at 0x7fe33451bbe0>"
      ]
     },
     "execution_count": 5,
     "metadata": {},
     "output_type": "execute_result"
    }
   ],
   "source": [
    "model.fit(X_train,y_train,eval_set=(X_test , y_test))"
   ]
  },
  {
   "cell_type": "code",
   "execution_count": 6,
   "metadata": {},
   "outputs": [],
   "source": [
    "y_pred1 = model.predict(X_test)"
   ]
  },
  {
   "cell_type": "code",
   "execution_count": 7,
   "metadata": {},
   "outputs": [
    {
     "name": "stdout",
     "output_type": "stream",
     "text": [
      "              precision    recall  f1-score   support\n",
      "\n",
      "           0       0.37      0.38      0.38        26\n",
      "           1       0.33      0.32      0.33        28\n",
      "           2       0.41      0.26      0.32        27\n",
      "           3       0.27      0.37      0.31        30\n",
      "           4       0.19      0.19      0.19        26\n",
      "           5       0.27      0.21      0.24        28\n",
      "           6       0.29      0.23      0.26        26\n",
      "           7       0.25      0.25      0.25        28\n",
      "           8       0.42      0.59      0.49        27\n",
      "           9       0.48      0.46      0.47        26\n",
      "\n",
      "    accuracy                           0.33       272\n",
      "   macro avg       0.33      0.33      0.32       272\n",
      "weighted avg       0.33      0.33      0.32       272\n",
      "\n"
     ]
    }
   ],
   "source": [
    "print(metrics.classification_report(y_pred = y_pred1 , y_true = y_test))"
   ]
  },
  {
   "cell_type": "code",
   "execution_count": 27,
   "metadata": {},
   "outputs": [],
   "source": [
    "from sklearn.ensemble import RandomForestClassifier\n",
    "rf1 = RandomForestClassifier(n_estimators=2000, random_state=0)"
   ]
  },
  {
   "cell_type": "code",
   "execution_count": 28,
   "metadata": {},
   "outputs": [
    {
     "data": {
      "text/html": [
       "<style>#sk-container-id-5 {color: black;background-color: white;}#sk-container-id-5 pre{padding: 0;}#sk-container-id-5 div.sk-toggleable {background-color: white;}#sk-container-id-5 label.sk-toggleable__label {cursor: pointer;display: block;width: 100%;margin-bottom: 0;padding: 0.3em;box-sizing: border-box;text-align: center;}#sk-container-id-5 label.sk-toggleable__label-arrow:before {content: \"▸\";float: left;margin-right: 0.25em;color: #696969;}#sk-container-id-5 label.sk-toggleable__label-arrow:hover:before {color: black;}#sk-container-id-5 div.sk-estimator:hover label.sk-toggleable__label-arrow:before {color: black;}#sk-container-id-5 div.sk-toggleable__content {max-height: 0;max-width: 0;overflow: hidden;text-align: left;background-color: #f0f8ff;}#sk-container-id-5 div.sk-toggleable__content pre {margin: 0.2em;color: black;border-radius: 0.25em;background-color: #f0f8ff;}#sk-container-id-5 input.sk-toggleable__control:checked~div.sk-toggleable__content {max-height: 200px;max-width: 100%;overflow: auto;}#sk-container-id-5 input.sk-toggleable__control:checked~label.sk-toggleable__label-arrow:before {content: \"▾\";}#sk-container-id-5 div.sk-estimator input.sk-toggleable__control:checked~label.sk-toggleable__label {background-color: #d4ebff;}#sk-container-id-5 div.sk-label input.sk-toggleable__control:checked~label.sk-toggleable__label {background-color: #d4ebff;}#sk-container-id-5 input.sk-hidden--visually {border: 0;clip: rect(1px 1px 1px 1px);clip: rect(1px, 1px, 1px, 1px);height: 1px;margin: -1px;overflow: hidden;padding: 0;position: absolute;width: 1px;}#sk-container-id-5 div.sk-estimator {font-family: monospace;background-color: #f0f8ff;border: 1px dotted black;border-radius: 0.25em;box-sizing: border-box;margin-bottom: 0.5em;}#sk-container-id-5 div.sk-estimator:hover {background-color: #d4ebff;}#sk-container-id-5 div.sk-parallel-item::after {content: \"\";width: 100%;border-bottom: 1px solid gray;flex-grow: 1;}#sk-container-id-5 div.sk-label:hover label.sk-toggleable__label {background-color: #d4ebff;}#sk-container-id-5 div.sk-serial::before {content: \"\";position: absolute;border-left: 1px solid gray;box-sizing: border-box;top: 0;bottom: 0;left: 50%;z-index: 0;}#sk-container-id-5 div.sk-serial {display: flex;flex-direction: column;align-items: center;background-color: white;padding-right: 0.2em;padding-left: 0.2em;position: relative;}#sk-container-id-5 div.sk-item {position: relative;z-index: 1;}#sk-container-id-5 div.sk-parallel {display: flex;align-items: stretch;justify-content: center;background-color: white;position: relative;}#sk-container-id-5 div.sk-item::before, #sk-container-id-5 div.sk-parallel-item::before {content: \"\";position: absolute;border-left: 1px solid gray;box-sizing: border-box;top: 0;bottom: 0;left: 50%;z-index: -1;}#sk-container-id-5 div.sk-parallel-item {display: flex;flex-direction: column;z-index: 1;position: relative;background-color: white;}#sk-container-id-5 div.sk-parallel-item:first-child::after {align-self: flex-end;width: 50%;}#sk-container-id-5 div.sk-parallel-item:last-child::after {align-self: flex-start;width: 50%;}#sk-container-id-5 div.sk-parallel-item:only-child::after {width: 0;}#sk-container-id-5 div.sk-dashed-wrapped {border: 1px dashed gray;margin: 0 0.4em 0.5em 0.4em;box-sizing: border-box;padding-bottom: 0.4em;background-color: white;}#sk-container-id-5 div.sk-label label {font-family: monospace;font-weight: bold;display: inline-block;line-height: 1.2em;}#sk-container-id-5 div.sk-label-container {text-align: center;}#sk-container-id-5 div.sk-container {/* jupyter's `normalize.less` sets `[hidden] { display: none; }` but bootstrap.min.css set `[hidden] { display: none !important; }` so we also need the `!important` here to be able to override the default hidden behavior on the sphinx rendered scikit-learn.org. See: https://github.com/scikit-learn/scikit-learn/issues/21755 */display: inline-block !important;position: relative;}#sk-container-id-5 div.sk-text-repr-fallback {display: none;}</style><div id=\"sk-container-id-5\" class=\"sk-top-container\"><div class=\"sk-text-repr-fallback\"><pre>RandomForestClassifier(n_estimators=2000, random_state=0)</pre><b>In a Jupyter environment, please rerun this cell to show the HTML representation or trust the notebook. <br />On GitHub, the HTML representation is unable to render, please try loading this page with nbviewer.org.</b></div><div class=\"sk-container\" hidden><div class=\"sk-item\"><div class=\"sk-estimator sk-toggleable\"><input class=\"sk-toggleable__control sk-hidden--visually\" id=\"sk-estimator-id-5\" type=\"checkbox\" checked><label for=\"sk-estimator-id-5\" class=\"sk-toggleable__label sk-toggleable__label-arrow\">RandomForestClassifier</label><div class=\"sk-toggleable__content\"><pre>RandomForestClassifier(n_estimators=2000, random_state=0)</pre></div></div></div></div></div>"
      ],
      "text/plain": [
       "RandomForestClassifier(n_estimators=2000, random_state=0)"
      ]
     },
     "execution_count": 28,
     "metadata": {},
     "output_type": "execute_result"
    }
   ],
   "source": [
    "rf1.fit(X_train, y_train)"
   ]
  },
  {
   "cell_type": "code",
   "execution_count": 29,
   "metadata": {},
   "outputs": [
    {
     "name": "stdout",
     "output_type": "stream",
     "text": [
      "              precision    recall  f1-score   support\n",
      "\n",
      "           0       0.43      0.58      0.49        26\n",
      "           1       0.28      0.39      0.33        28\n",
      "           2       0.73      0.30      0.42        27\n",
      "           3       0.32      0.40      0.35        30\n",
      "           4       0.40      0.23      0.29        26\n",
      "           5       0.46      0.21      0.29        28\n",
      "           6       0.41      0.35      0.38        26\n",
      "           7       0.28      0.32      0.30        28\n",
      "           8       0.45      0.63      0.52        27\n",
      "           9       0.48      0.54      0.51        26\n",
      "\n",
      "    accuracy                           0.39       272\n",
      "   macro avg       0.42      0.39      0.39       272\n",
      "weighted avg       0.42      0.39      0.39       272\n",
      "\n"
     ]
    }
   ],
   "source": [
    "y_pred2 = rf1.predict(X_test)\n",
    "print(metrics.classification_report(y_pred = y_pred2 , y_true = y_test))"
   ]
  },
  {
   "cell_type": "code",
   "execution_count": 30,
   "metadata": {},
   "outputs": [
    {
     "data": {
      "text/html": [
       "<style>#sk-container-id-6 {color: black;background-color: white;}#sk-container-id-6 pre{padding: 0;}#sk-container-id-6 div.sk-toggleable {background-color: white;}#sk-container-id-6 label.sk-toggleable__label {cursor: pointer;display: block;width: 100%;margin-bottom: 0;padding: 0.3em;box-sizing: border-box;text-align: center;}#sk-container-id-6 label.sk-toggleable__label-arrow:before {content: \"▸\";float: left;margin-right: 0.25em;color: #696969;}#sk-container-id-6 label.sk-toggleable__label-arrow:hover:before {color: black;}#sk-container-id-6 div.sk-estimator:hover label.sk-toggleable__label-arrow:before {color: black;}#sk-container-id-6 div.sk-toggleable__content {max-height: 0;max-width: 0;overflow: hidden;text-align: left;background-color: #f0f8ff;}#sk-container-id-6 div.sk-toggleable__content pre {margin: 0.2em;color: black;border-radius: 0.25em;background-color: #f0f8ff;}#sk-container-id-6 input.sk-toggleable__control:checked~div.sk-toggleable__content {max-height: 200px;max-width: 100%;overflow: auto;}#sk-container-id-6 input.sk-toggleable__control:checked~label.sk-toggleable__label-arrow:before {content: \"▾\";}#sk-container-id-6 div.sk-estimator input.sk-toggleable__control:checked~label.sk-toggleable__label {background-color: #d4ebff;}#sk-container-id-6 div.sk-label input.sk-toggleable__control:checked~label.sk-toggleable__label {background-color: #d4ebff;}#sk-container-id-6 input.sk-hidden--visually {border: 0;clip: rect(1px 1px 1px 1px);clip: rect(1px, 1px, 1px, 1px);height: 1px;margin: -1px;overflow: hidden;padding: 0;position: absolute;width: 1px;}#sk-container-id-6 div.sk-estimator {font-family: monospace;background-color: #f0f8ff;border: 1px dotted black;border-radius: 0.25em;box-sizing: border-box;margin-bottom: 0.5em;}#sk-container-id-6 div.sk-estimator:hover {background-color: #d4ebff;}#sk-container-id-6 div.sk-parallel-item::after {content: \"\";width: 100%;border-bottom: 1px solid gray;flex-grow: 1;}#sk-container-id-6 div.sk-label:hover label.sk-toggleable__label {background-color: #d4ebff;}#sk-container-id-6 div.sk-serial::before {content: \"\";position: absolute;border-left: 1px solid gray;box-sizing: border-box;top: 0;bottom: 0;left: 50%;z-index: 0;}#sk-container-id-6 div.sk-serial {display: flex;flex-direction: column;align-items: center;background-color: white;padding-right: 0.2em;padding-left: 0.2em;position: relative;}#sk-container-id-6 div.sk-item {position: relative;z-index: 1;}#sk-container-id-6 div.sk-parallel {display: flex;align-items: stretch;justify-content: center;background-color: white;position: relative;}#sk-container-id-6 div.sk-item::before, #sk-container-id-6 div.sk-parallel-item::before {content: \"\";position: absolute;border-left: 1px solid gray;box-sizing: border-box;top: 0;bottom: 0;left: 50%;z-index: -1;}#sk-container-id-6 div.sk-parallel-item {display: flex;flex-direction: column;z-index: 1;position: relative;background-color: white;}#sk-container-id-6 div.sk-parallel-item:first-child::after {align-self: flex-end;width: 50%;}#sk-container-id-6 div.sk-parallel-item:last-child::after {align-self: flex-start;width: 50%;}#sk-container-id-6 div.sk-parallel-item:only-child::after {width: 0;}#sk-container-id-6 div.sk-dashed-wrapped {border: 1px dashed gray;margin: 0 0.4em 0.5em 0.4em;box-sizing: border-box;padding-bottom: 0.4em;background-color: white;}#sk-container-id-6 div.sk-label label {font-family: monospace;font-weight: bold;display: inline-block;line-height: 1.2em;}#sk-container-id-6 div.sk-label-container {text-align: center;}#sk-container-id-6 div.sk-container {/* jupyter's `normalize.less` sets `[hidden] { display: none; }` but bootstrap.min.css set `[hidden] { display: none !important; }` so we also need the `!important` here to be able to override the default hidden behavior on the sphinx rendered scikit-learn.org. See: https://github.com/scikit-learn/scikit-learn/issues/21755 */display: inline-block !important;position: relative;}#sk-container-id-6 div.sk-text-repr-fallback {display: none;}</style><div id=\"sk-container-id-6\" class=\"sk-top-container\"><div class=\"sk-text-repr-fallback\"><pre>RandomForestClassifier(n_estimators=2000, random_state=0)</pre><b>In a Jupyter environment, please rerun this cell to show the HTML representation or trust the notebook. <br />On GitHub, the HTML representation is unable to render, please try loading this page with nbviewer.org.</b></div><div class=\"sk-container\" hidden><div class=\"sk-item\"><div class=\"sk-estimator sk-toggleable\"><input class=\"sk-toggleable__control sk-hidden--visually\" id=\"sk-estimator-id-6\" type=\"checkbox\" checked><label for=\"sk-estimator-id-6\" class=\"sk-toggleable__label sk-toggleable__label-arrow\">RandomForestClassifier</label><div class=\"sk-toggleable__content\"><pre>RandomForestClassifier(n_estimators=2000, random_state=0)</pre></div></div></div></div></div>"
      ],
      "text/plain": [
       "RandomForestClassifier(n_estimators=2000, random_state=0)"
      ]
     },
     "execution_count": 30,
     "metadata": {},
     "output_type": "execute_result"
    }
   ],
   "source": [
    "rf2 = RandomForestClassifier(n_estimators=2000, random_state=0)\n",
    "rf2.fit(X_train1, y_train)"
   ]
  },
  {
   "cell_type": "code",
   "execution_count": 31,
   "metadata": {},
   "outputs": [
    {
     "name": "stdout",
     "output_type": "stream",
     "text": [
      "              precision    recall  f1-score   support\n",
      "\n",
      "           0       0.41      0.46      0.44        26\n",
      "           1       0.40      0.50      0.44        28\n",
      "           2       0.40      0.37      0.38        27\n",
      "           3       0.42      0.37      0.39        30\n",
      "           4       0.38      0.23      0.29        26\n",
      "           5       0.27      0.25      0.26        28\n",
      "           6       0.47      0.58      0.52        26\n",
      "           7       0.38      0.54      0.45        28\n",
      "           8       0.50      0.48      0.49        27\n",
      "           9       0.44      0.31      0.36        26\n",
      "\n",
      "    accuracy                           0.41       272\n",
      "   macro avg       0.41      0.41      0.40       272\n",
      "weighted avg       0.41      0.41      0.40       272\n",
      "\n"
     ]
    }
   ],
   "source": [
    "y_pred2 = rf2.predict(X_test1)\n",
    "print(metrics.classification_report(y_pred = y_pred2 , y_true = y_test))"
   ]
  }
 ],
 "metadata": {
  "kernelspec": {
   "display_name": "Python 3 (ipykernel)",
   "language": "python",
   "name": "python3"
  },
  "language_info": {
   "codemirror_mode": {
    "name": "ipython",
    "version": 3
   },
   "file_extension": ".py",
   "mimetype": "text/x-python",
   "name": "python",
   "nbconvert_exporter": "python",
   "pygments_lexer": "ipython3",
   "version": "3.10.6"
  }
 },
 "nbformat": 4,
 "nbformat_minor": 4
}
