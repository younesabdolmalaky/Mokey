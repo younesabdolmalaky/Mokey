{
 "cells": [
  {
   "cell_type": "code",
   "execution_count": 11,
   "metadata": {},
   "outputs": [],
   "source": [
    "import pandas as pd\n",
    "import numpy as np\n",
    "import matplotlib.pyplot as plt\n",
    "import cv2\n",
    "import mahotas\n",
    "import h5py\n",
    "import imageio as iio\n",
    "import os\n",
    "from os import listdir\n",
    "from itertools import chain\n",
    "import pickle as pkl\n"
   ]
  },
  {
   "cell_type": "code",
   "execution_count": 2,
   "metadata": {},
   "outputs": [],
   "source": [
    "def read_images(string):\n",
    "    AllImages = []\n",
    "    hue_features_all = []\n",
    "    haralick_features_all = []\n",
    "    for i in range(0,10):\n",
    "        dirname = '../datasets/'+string+'/'+string+'/n'+str(i)\n",
    "        images = []\n",
    "        for image in os.listdir(dirname):\n",
    "            img = iio.imread(dirname+'/' +image)\n",
    "\n",
    "            image_gray = cv2.cvtColor(img, cv2.COLOR_BGR2GRAY)\n",
    "\n",
    "            hue_features = cv2.HuMoments(cv2.moments(image_gray)).flatten()\n",
    "\n",
    "            haralick_features = mahotas.features.haralick(image_gray).mean(axis=0)\n",
    "\n",
    "            hue_features_all.append(hue_features)\n",
    "            haralick_features_all.append(haralick_features)\n",
    "            images.append(img)\n",
    "        AllImages.append(images)\n",
    "    return AllImages ,hue_features_all ,haralick_features_all\n"
   ]
  },
  {
   "cell_type": "code",
   "execution_count": 3,
   "metadata": {},
   "outputs": [],
   "source": [
    "def histcaclulate(AllImages , rgb):   \n",
    "    AllHists = []\n",
    "    for images in AllImages:\n",
    "        hists = []\n",
    "        for image in images:\n",
    "            hist = cv2.calcHist(image,[rgb],None,[256],[0,256]) \n",
    "            hists.append(hist)\n",
    "        AllHists.append(hists)\n",
    "    return AllHists"
   ]
  },
  {
   "cell_type": "code",
   "execution_count": 4,
   "metadata": {},
   "outputs": [],
   "source": [
    "def concatenatehists(AllHists0,AllHists1,AllHists2):   \n",
    "    Allhists = []\n",
    "    for i in range(10):\n",
    "        folderhists = []\n",
    "        for j in range(len(AllHists0[i])):\n",
    "            imagehist = np.concatenate([AllHists0[i][j] , AllHists1[i][j] , AllHists2[i][j]]) \n",
    "            folderhists.append(imagehist)\n",
    "        Allhists.append(folderhists)\n",
    "    return Allhists\n"
   ]
  },
  {
   "cell_type": "code",
   "execution_count": 5,
   "metadata": {},
   "outputs": [],
   "source": [
    "def flator(lists):\n",
    "    result = []\n",
    "    for folder in lists:\n",
    "        images = []\n",
    "        for image in folder:\n",
    "            images.append(image.ravel())\n",
    "        result.append(images)\n",
    "    return result\n",
    "        "
   ]
  },
  {
   "cell_type": "code",
   "execution_count": 6,
   "metadata": {},
   "outputs": [],
   "source": [
    "def findlabels(Allhists):\n",
    "    lables = []\n",
    "    for i in range(len(Allhists)):\n",
    "        for j in range(len(Allhists[i])):\n",
    "            lables.append(i)\n",
    "    return lables\n"
   ]
  },
  {
   "cell_type": "code",
   "execution_count": 8,
   "metadata": {},
   "outputs": [],
   "source": [
    "def handle(string):\n",
    "    All = read_images(string)\n",
    "    AllImages = All[0]\n",
    "    hue_features_all = All[1]\n",
    "    haralick_features_all = All[2]\n",
    "    AllHists0 = histcaclulate(AllImages , 0)\n",
    "    AllHists1 = histcaclulate(AllImages , 1)\n",
    "    AllHists2 = histcaclulate(AllImages , 2)\n",
    "    del All\n",
    "    del AllImages\n",
    "    Allhists = concatenatehists(AllHists0,AllHists1,AllHists2)   \n",
    "    del AllHists0\n",
    "    del AllHists1\n",
    "    del AllHists2\n",
    "    flatlist = flator(Allhists)\n",
    "    lables = findlabels(Allhists)\n",
    "    flatlist = list(chain.from_iterable(flatlist))\n",
    "    all_featurs = np.concatenate((flatlist , hue_features_all, haralick_features_all), axis = 1)\n",
    "    del flatlist\n",
    "    return all_featurs , lables"
   ]
  },
  {
   "cell_type": "code",
   "execution_count": 9,
   "metadata": {},
   "outputs": [],
   "source": [
    "X_train ,y_train = handle('training')"
   ]
  },
  {
   "cell_type": "code",
   "execution_count": 13,
   "metadata": {},
   "outputs": [],
   "source": [
    "with open('X_train.pkl', 'wb') as f:\n",
    "    pkl.dump(X_train, f)\n",
    "with open('y_train.pkl', 'wb') as f:\n",
    "    pkl.dump(y_train, f)"
   ]
  },
  {
   "cell_type": "code",
   "execution_count": 10,
   "metadata": {},
   "outputs": [],
   "source": [
    "X_test ,y_test = handle('validation')"
   ]
  },
  {
   "cell_type": "code",
   "execution_count": 14,
   "metadata": {},
   "outputs": [],
   "source": [
    "with open('X_test.pkl', 'wb') as f:\n",
    "    pkl.dump(X_test, f)\n",
    "with open('y_test.pkl', 'wb') as f:\n",
    "    pkl.dump(y_test, f)"
   ]
  },
  {
   "cell_type": "code",
   "execution_count": null,
   "metadata": {},
   "outputs": [],
   "source": []
  }
 ],
 "metadata": {
  "kernelspec": {
   "display_name": "Python 3",
   "language": "python",
   "name": "python3"
  },
  "language_info": {
   "codemirror_mode": {
    "name": "ipython",
    "version": 3
   },
   "file_extension": ".py",
   "mimetype": "text/x-python",
   "name": "python",
   "nbconvert_exporter": "python",
   "pygments_lexer": "ipython3",
   "version": "3.7.6"
  }
 },
 "nbformat": 4,
 "nbformat_minor": 4
}
